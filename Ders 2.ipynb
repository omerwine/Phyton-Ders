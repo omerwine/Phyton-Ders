{
 "cells": [
  {
   "cell_type": "markdown",
   "id": "cf4eee85-f2bf-40ef-b560-51917260a9b2",
   "metadata": {
    "jp-MarkdownHeadingCollapsed": true
   },
   "source": [
    "# Mantıksal Değerler ve Karşılaştırma Operatörleri"
   ]
  },
  {
   "cell_type": "markdown",
   "id": "1f7a1e27-c19e-4ed6-834b-0a17c60fc640",
   "metadata": {},
   "source": [
    "### Mantıksal Değerler (Boolean)"
   ]
  },
  {
   "cell_type": "markdown",
   "id": "b56b2b6f-e1af-43ec-8901-a09448f3fecc",
   "metadata": {},
   "source": [
    "Booleanlar aslında bir veri tipidir ve sadece iki değere sahiplerdir. **True** ve **False**"
   ]
  },
  {
   "cell_type": "code",
   "execution_count": 179,
   "id": "4d15ae92-c83c-4da3-8d96-97d561e6f263",
   "metadata": {},
   "outputs": [
    {
     "data": {
      "text/plain": [
       "bool"
      ]
     },
     "execution_count": 179,
     "metadata": {},
     "output_type": "execute_result"
    }
   ],
   "source": [
    "a = True\n",
    "type(a)"
   ]
  },
  {
   "cell_type": "code",
   "execution_count": 181,
   "id": "edc76090-55d4-41a7-9ef5-73695527daac",
   "metadata": {},
   "outputs": [
    {
     "data": {
      "text/plain": [
       "bool"
      ]
     },
     "execution_count": 181,
     "metadata": {},
     "output_type": "execute_result"
    }
   ],
   "source": [
    "b = False\n",
    "type(b)"
   ]
  },
  {
   "cell_type": "markdown",
   "id": "bc576506-ed12-44c2-a156-73c24db7f0b7",
   "metadata": {},
   "source": [
    "Phyton'da bir sayı değeri 0'sa **False**, 0'dan farklıysa **True**'dur. *bool( )* komudu ile bunu görebiliriz"
   ]
  },
  {
   "cell_type": "code",
   "execution_count": 187,
   "id": "57b29260-6b44-4a12-9704-4c7cc714f121",
   "metadata": {},
   "outputs": [
    {
     "data": {
      "text/plain": [
       "True"
      ]
     },
     "execution_count": 187,
     "metadata": {},
     "output_type": "execute_result"
    }
   ],
   "source": [
    "bool(5)"
   ]
  },
  {
   "cell_type": "code",
   "execution_count": 189,
   "id": "cdc1c010-f584-4a67-8b5f-49ab8525601c",
   "metadata": {},
   "outputs": [
    {
     "data": {
      "text/plain": [
       "False"
      ]
     },
     "execution_count": 189,
     "metadata": {},
     "output_type": "execute_result"
    }
   ],
   "source": [
    "bool(0)"
   ]
  },
  {
   "cell_type": "markdown",
   "id": "1859dc19-245b-457a-95c5-3a7dd35c793c",
   "metadata": {},
   "source": [
    "Bir değişkene geçici olarak değer atamak istemezsek **None** kullanırız."
   ]
  },
  {
   "cell_type": "code",
   "execution_count": 192,
   "id": "eb609973-26d4-4919-970e-1f403f93daa8",
   "metadata": {},
   "outputs": [
    {
     "data": {
      "text/plain": [
       "NoneType"
      ]
     },
     "execution_count": 192,
     "metadata": {},
     "output_type": "execute_result"
    }
   ],
   "source": [
    "a = None\n",
    "type(a)"
   ]
  },
  {
   "cell_type": "markdown",
   "id": "2cfabd08-d177-4683-9ad6-1b51e2d025fd",
   "metadata": {},
   "source": [
    "### Karşılaştırma Operatörleri"
   ]
  },
  {
   "cell_type": "markdown",
   "id": "fb655c4d-e20a-4d81-9265-3a1436f8fb99",
   "metadata": {},
   "source": [
    "**==** İki Değer eşit mi? "
   ]
  },
  {
   "cell_type": "markdown",
   "id": "7d807366-19de-4435-88e3-7395c20aaf1b",
   "metadata": {},
   "source": [
    "**!=** İki Değer eşit değil mi? "
   ]
  },
  {
   "cell_type": "markdown",
   "id": "6cba366a-feff-4c51-91bf-917c4e615aab",
   "metadata": {},
   "source": [
    "**>** Soldaki değer sağdakinden büyük mü?"
   ]
  },
  {
   "cell_type": "markdown",
   "id": "69aaf5e3-d014-40a2-b837-42296b3a4294",
   "metadata": {},
   "source": [
    "**<** Soldaki değer sağdakinden küçük mü?"
   ]
  },
  {
   "cell_type": "markdown",
   "id": "b2a054d8-43e9-41ec-ac46-c28711c9602d",
   "metadata": {},
   "source": [
    "**>=** Soldaki değer sağdakinden büyük eşit mi?"
   ]
  },
  {
   "cell_type": "markdown",
   "id": "ddb5207e-fd7e-47ba-8c6f-d0f2c0c10d6e",
   "metadata": {},
   "source": [
    "**<=** Soldaki değer sağdakinden küçük eşit mi?"
   ]
  },
  {
   "cell_type": "markdown",
   "id": "b71c2466-2a02-4055-aa8e-bee0e1f4a713",
   "metadata": {
    "jp-MarkdownHeadingCollapsed": true
   },
   "source": [
    "# Mantıksal Bağlaçlar"
   ]
  },
  {
   "cell_type": "markdown",
   "id": "a8cd936e-b771-4a26-a6c3-10bfda69d46b",
   "metadata": {},
   "source": [
    "### and Operatörü"
   ]
  },
  {
   "cell_type": "markdown",
   "id": "a2270332-125e-4d76-880f-eb9f9b253ee9",
   "metadata": {},
   "source": [
    "Bağlacın **True** olabilmesi için bağlaç içerisindeki her bağlacın kendi içinde **True** olması lazım."
   ]
  },
  {
   "cell_type": "code",
   "execution_count": 220,
   "id": "8cba053f-6708-4e96-aedc-81dea87d7b0c",
   "metadata": {},
   "outputs": [
    {
     "data": {
      "text/plain": [
       "True"
      ]
     },
     "execution_count": 220,
     "metadata": {},
     "output_type": "execute_result"
    }
   ],
   "source": [
    "5 == 5 and 4 > 3"
   ]
  },
  {
   "cell_type": "code",
   "execution_count": 224,
   "id": "d2cf32e6-d4d9-4f1c-bd9d-eb03aaab13ee",
   "metadata": {},
   "outputs": [
    {
     "data": {
      "text/plain": [
       "False"
      ]
     },
     "execution_count": 224,
     "metadata": {},
     "output_type": "execute_result"
    }
   ],
   "source": [
    "7 == 2 and 4 > 3"
   ]
  },
  {
   "cell_type": "markdown",
   "id": "feec104f-5e6c-4151-886e-369a04dcb349",
   "metadata": {},
   "source": [
    "### or Operatörü"
   ]
  },
  {
   "cell_type": "markdown",
   "id": "1217d363-a3bd-4317-ac24-37f177a21f83",
   "metadata": {},
   "source": [
    "**True** olabilmesi için bağlaç içerisindeki en az bir bağlaç **True** olmalı. Hepsi **False**'sa genel işlem de **False** olur."
   ]
  },
  {
   "cell_type": "code",
   "execution_count": 230,
   "id": "6c39ff94-408e-4bff-99d8-2a7d3ce24d4c",
   "metadata": {},
   "outputs": [
    {
     "data": {
      "text/plain": [
       "True"
      ]
     },
     "execution_count": 230,
     "metadata": {},
     "output_type": "execute_result"
    }
   ],
   "source": [
    "\"Ömer\" == \"Ömer\" or 5 < 2"
   ]
  },
  {
   "cell_type": "code",
   "execution_count": 232,
   "id": "ad7b5f51-6d77-4d99-8329-2e9c1ce6ac1c",
   "metadata": {},
   "outputs": [
    {
     "data": {
      "text/plain": [
       "False"
      ]
     },
     "execution_count": 232,
     "metadata": {},
     "output_type": "execute_result"
    }
   ],
   "source": [
    "\"Ömer\" != \"Ömer\" or 5 < 2"
   ]
  },
  {
   "cell_type": "markdown",
   "id": "27485c5a-ad3e-4f3a-b93b-3977eda95094",
   "metadata": {},
   "source": [
    "### not Operatörü"
   ]
  },
  {
   "cell_type": "markdown",
   "id": "7bd23a9a-755a-4e76-8c5f-ebb344b42f6f",
   "metadata": {},
   "source": [
    "Bir işlem **False**'sa onu **True** yapar, **True** ise **False** yapar."
   ]
  },
  {
   "cell_type": "code",
   "execution_count": 236,
   "id": "15c39ecb-98cd-489c-b4b7-0a90d9ea38f1",
   "metadata": {},
   "outputs": [
    {
     "data": {
      "text/plain": [
       "False"
      ]
     },
     "execution_count": 236,
     "metadata": {},
     "output_type": "execute_result"
    }
   ],
   "source": [
    "not \"Ömer\" == \"Ömer\""
   ]
  },
  {
   "cell_type": "markdown",
   "id": "3eb03031-e8dc-4d30-8f8b-d879a3ee386a",
   "metadata": {},
   "source": [
    "### Operatörleri Beraber Kullanmak"
   ]
  },
  {
   "cell_type": "markdown",
   "id": "1a8074ce-b98a-4611-8add-e1bca8b2ad7c",
   "metadata": {},
   "source": [
    "Operatörleri beraber kullanırken parantez kullanmak daha iyidir."
   ]
  },
  {
   "cell_type": "code",
   "execution_count": 244,
   "id": "5037f270-993e-488e-9261-3b6a7d12bd4f",
   "metadata": {},
   "outputs": [
    {
     "data": {
      "text/plain": [
       "True"
      ]
     },
     "execution_count": 244,
     "metadata": {},
     "output_type": "execute_result"
    }
   ],
   "source": [
    "not (2 > 3 and ((\"Ömer\" == \"Ömer\" or 3.14 > 1.4) and (\"Naz\" != \"Naz\")))"
   ]
  },
  {
   "cell_type": "markdown",
   "id": "d12a0a6a-a964-46b3-bfe6-bf4980acc2f4",
   "metadata": {
    "jp-MarkdownHeadingCollapsed": true
   },
   "source": [
    "# Koşullu Durumlar - if else"
   ]
  },
  {
   "cell_type": "markdown",
   "id": "4320f735-6264-4911-ac79-b51cebeeed21",
   "metadata": {
    "jp-MarkdownHeadingCollapsed": true
   },
   "source": [
    "### Phyton Çalışma Mantığı ve Bloklar"
   ]
  },
  {
   "cell_type": "markdown",
   "id": "81bd3771-b31b-4716-9d85-668a22bc639f",
   "metadata": {},
   "source": [
    "Phyton'da kodlamalar Bloklara ayrılırlar. En solda yazılan kodlar **Blok 1** olarak başlarlar. 4 boşlukla girinti şeklinde ayrılmış olan kodlar ise **Blok 2** ve 3,4... olarak devam eder. ***Blok 2**'de çalışmayan bir durum **Diğer Blokları** etkilemez.*"
   ]
  },
  {
   "cell_type": "code",
   "execution_count": 5,
   "id": "a2b9640a-f34b-4a79-965b-dbc3742a0b17",
   "metadata": {},
   "outputs": [
    {
     "name": "stdout",
     "output_type": "stream",
     "text": [
      "Ömer\n",
      "Merhaba\n"
     ]
    }
   ],
   "source": [
    "a = 2  # Blok 1\n",
    "\n",
    "if (a == 2):\n",
    "    print(\"Ömer\") # Blok 2\n",
    "\n",
    "print(\"Merhaba\") # Blok 1"
   ]
  },
  {
   "cell_type": "code",
   "execution_count": 7,
   "id": "4e2bb2cb-5eb8-41ff-876f-7eb469027443",
   "metadata": {},
   "outputs": [
    {
     "name": "stdout",
     "output_type": "stream",
     "text": [
      "Merhaba\n"
     ]
    }
   ],
   "source": [
    "a = 2  # Blok 1\n",
    "\n",
    "if (a == 3):\n",
    "    print(\"Ömer\") # Blok 2\n",
    "\n",
    "print(\"Merhaba\") # Blok 1"
   ]
  },
  {
   "cell_type": "markdown",
   "id": "15158019-6a42-4159-8671-773f73db09f4",
   "metadata": {},
   "source": [
    "### Koşullu Durumlar"
   ]
  },
  {
   "cell_type": "markdown",
   "id": "a3170a89-2307-4c03-ba10-5342cd02530b",
   "metadata": {},
   "source": [
    "Gerçek hayattaki koşullar gibi düşünebiliriz. Bir şey **eğer** böyleyse yapmalıyız **öyle değilse** yapmamalıyız gibi düşünebiliriz."
   ]
  },
  {
   "cell_type": "markdown",
   "id": "5eb296ac-982d-4481-8a61-cbdf94ae466b",
   "metadata": {},
   "source": [
    "#### **if Bloğu**"
   ]
  },
  {
   "cell_type": "markdown",
   "id": "cbc85698-9b11-4bac-8463-dc64ccfc80a7",
   "metadata": {},
   "source": [
    "if bloğu şu şekilde yazılabilir;\n",
    "\n",
    "            if (koşul):\n",
    "                # Koşul True olursa çalışır. Bu hizadaki her şey *if*'e aittir\n",
    "                # Girintiyle oluşur.\n",
    "                Yapılacak işlemler\n",
    "\n",
    "**if** bloğu eğer koşul sağlanırsa anlamı taşır. koşul **False** olursa çalışmaz."
   ]
  },
  {
   "cell_type": "code",
   "execution_count": 32,
   "id": "2479f710-1154-426a-81a9-1181b7274f50",
   "metadata": {},
   "outputs": [
    {
     "name": "stdin",
     "output_type": "stream",
     "text": [
      "Yaşınızı Girin: 13\n"
     ]
    },
    {
     "name": "stdout",
     "output_type": "stream",
     "text": [
      "Uza!\n"
     ]
    }
   ],
   "source": [
    "yaş = int(input(\"Yaşınızı Girin:\"))\n",
    "\n",
    "if (yaş < 18):\n",
    "    print(\"Uza!\")"
   ]
  },
  {
   "cell_type": "markdown",
   "id": "9bf13d19-d6c4-4258-86ed-8efd2cd62d35",
   "metadata": {},
   "source": [
    "#### **else Bloğu**"
   ]
  },
  {
   "cell_type": "markdown",
   "id": "d5043fc8-d00f-4c9c-b31c-1bcb472b80e5",
   "metadata": {},
   "source": [
    "Eğer **if** bloğu **False** çıkarsa **else** bloğu çalışmaya başlar."
   ]
  },
  {
   "cell_type": "markdown",
   "id": "29039ca5-89fa-43de-b57a-d5ee1eeb14c7",
   "metadata": {},
   "source": [
    "if bloğu şu şekilde yazılabilir;\n",
    "\n",
    "            else:\n",
    "                # üstündeki herhangi bir if veya elif bloğu False çıkarsa çalışır.\n",
    "                # Girintiyle oluşur.\n",
    "                Yapılacak işlemler\n"
   ]
  },
  {
   "cell_type": "code",
   "execution_count": 39,
   "id": "731ed473-3087-489a-9aeb-1e29a9c0b32e",
   "metadata": {},
   "outputs": [
    {
     "name": "stdin",
     "output_type": "stream",
     "text": [
      "Sayı girin: 5\n"
     ]
    },
    {
     "name": "stdout",
     "output_type": "stream",
     "text": [
      "Sıfır veya Pozitif\n"
     ]
    }
   ],
   "source": [
    "sayı = int(input(\"Sayı girin:\"))\n",
    "\n",
    "if (sayı < 0):\n",
    "    print(\"Negatif\")\n",
    "else:\n",
    "    print(\"Sıfır veya Pozitif\")"
   ]
  },
  {
   "cell_type": "markdown",
   "id": "f8af2dfd-a3fa-4765-b109-b857475cdfef",
   "metadata": {},
   "source": [
    "#### **elif Bloğu**"
   ]
  },
  {
   "cell_type": "markdown",
   "id": "81bf9623-6353-4574-9499-c99026138b2a",
   "metadata": {},
   "source": [
    "Birden fazla koşulun bulunduğu durumlarda **if**in **false** olması durumunda altına diğer koşulları yazmamızı sağlayan bloktur."
   ]
  },
  {
   "cell_type": "code",
   "execution_count": 53,
   "id": "05779939-67a9-499e-92c9-e083796dcd74",
   "metadata": {},
   "outputs": [
    {
     "name": "stdin",
     "output_type": "stream",
     "text": [
      "Sınav notunuzu giriniz: 52\n"
     ]
    },
    {
     "name": "stdout",
     "output_type": "stream",
     "text": [
      "DD\n"
     ]
    }
   ],
   "source": [
    "# Harf Notu\n",
    "\n",
    "x = int(input(\"Sınav notunuzu giriniz:\"))\n",
    "\n",
    "if 90 <= x <= 100:\n",
    "    print(\"AA\")\n",
    "elif 85 <= x <= 89:\n",
    "    print(\"BA\")\n",
    "elif 80 <= x <= 84:\n",
    "    print(\"BB\")\n",
    "elif 70 <= x <= 79:\n",
    "    print(\"CB\")\n",
    "elif 60 <= x <= 69:\n",
    "    print(\"CC\")\n",
    "elif 55 <= x <= 59:\n",
    "    print(\"DC\")\n",
    "elif 50 <= x <= 54:\n",
    "    print(\"DD\")\n",
    "elif 40 <= x <= 49:\n",
    "    print(\"FD\")\n",
    "else:\n",
    "    print(\"FF\")\n",
    "    "
   ]
  },
  {
   "cell_type": "markdown",
   "id": "a7f730a2-366e-4cd8-bb36-37249f6b4a3d",
   "metadata": {},
   "source": [
    "**Yani şöyle düşünebiliriz:**\n",
    "\n",
    "    if : bir koşul sunar.\n",
    "    elif : sunulan koşuldan farklı başka bir koşul sunar.\n",
    "    else : sunulan koşullar haricindeki diğer her koşulu sunar."
   ]
  },
  {
   "cell_type": "markdown",
   "id": "248cce63-c9b7-4f59-bf5b-75dcfd0325d1",
   "metadata": {},
   "source": [
    "# Döngüler ve Döngü Yapıları"
   ]
  },
  {
   "cell_type": "markdown",
   "id": "261a7e47-935d-4504-9f50-7b2b30d300b1",
   "metadata": {},
   "source": [
    "### For Döngüleri"
   ]
  },
  {
   "cell_type": "markdown",
   "id": "7e19a63d-2737-4695-b8a3-5442aad041bb",
   "metadata": {},
   "source": [
    "#### **in Operatörü**"
   ]
  },
  {
   "cell_type": "markdown",
   "id": "6945ff16-573b-4499-97d1-03f738fa9898",
   "metadata": {},
   "source": [
    "bir elemanın başka bir demette, listede veya stringde bulunup bulunmadığına bakar."
   ]
  },
  {
   "cell_type": "code",
   "execution_count": 6,
   "id": "47154074-cb88-4b72-a1d9-dd89a1edd559",
   "metadata": {},
   "outputs": [
    {
     "data": {
      "text/plain": [
       "True"
      ]
     },
     "execution_count": 6,
     "metadata": {},
     "output_type": "execute_result"
    }
   ],
   "source": [
    "5 in (1,2,3,4,5)"
   ]
  },
  {
   "cell_type": "code",
   "execution_count": 10,
   "id": "d332bae8-e615-4200-a50e-48af765f2cd3",
   "metadata": {},
   "outputs": [
    {
     "data": {
      "text/plain": [
       "False"
      ]
     },
     "execution_count": 10,
     "metadata": {},
     "output_type": "execute_result"
    }
   ],
   "source": [
    "10 in (1,2,3)"
   ]
  },
  {
   "cell_type": "code",
   "execution_count": 12,
   "id": "5e75874f-72b0-4a42-a2bf-3cf64c659f30",
   "metadata": {},
   "outputs": [
    {
     "data": {
      "text/plain": [
       "True"
      ]
     },
     "execution_count": 12,
     "metadata": {},
     "output_type": "execute_result"
    }
   ],
   "source": [
    "\"ö\" in \"ömer\""
   ]
  },
  {
   "cell_type": "markdown",
   "id": "275b4e7e-fb0f-45c8-9bf2-43a98c0b2eff",
   "metadata": {
    "jp-MarkdownHeadingCollapsed": true
   },
   "source": [
    "#### **For Döngüsü**"
   ]
  },
  {
   "cell_type": "markdown",
   "id": "c749169b-2de7-44bc-875a-3c6d379b0c20",
   "metadata": {},
   "source": [
    "bu döngü, listelerin demetlerin ve hatta sözlüklerin içinde dolaşmamızı sağlar\n",
    "\n",
    "            for eleman in veri_yapısı(liste,demet vs.)\n",
    "                Yapılacak İşlem"
   ]
  },
  {
   "cell_type": "code",
   "execution_count": 26,
   "id": "698254ed-4053-44ee-a836-25cd631cae3c",
   "metadata": {},
   "outputs": [
    {
     "name": "stdout",
     "output_type": "stream",
     "text": [
      "1\n",
      "2\n",
      "3\n",
      "ömer\n",
      "naz\n",
      "53\n",
      "72\n"
     ]
    }
   ],
   "source": [
    "demet = (1,2,3,\"ömer\",\"naz\",53,72)\n",
    "for k in demet:\n",
    "    print(k)"
   ]
  },
  {
   "cell_type": "markdown",
   "id": "f051a24c-7daf-4cb4-81f4-1e2afc5fbef3",
   "metadata": {},
   "source": [
    "*Yukarıda gördüğünüz gibi bir demet belirledik ve for döngüsünde bir \"k\" değişkenini kullanarak demetin içindeki her elemana tek tek uğramış olduk.*"
   ]
  },
  {
   "cell_type": "code",
   "execution_count": 122,
   "id": "6c1a0101-e5cd-4a2e-8caf-336d7a5da812",
   "metadata": {},
   "outputs": [
    {
     "name": "stdout",
     "output_type": "stream",
     "text": [
      "Öncesi : 1 , Sonrası : 2\n",
      "Öncesi : 2 , Sonrası : 3\n",
      "Öncesi : 3 , Sonrası : 4\n",
      "Öncesi : 4 , Sonrası : 5\n",
      "Öncesi : 5 , Sonrası : 6\n",
      "6\n"
     ]
    }
   ],
   "source": [
    "liste = [1,2,3,4,5]\n",
    "a = 1\n",
    "for b in liste:\n",
    "    c = a + b\n",
    "    print(\"Öncesi : {} , Sonrası : {}\".format(b,c))\n",
    "\n",
    "print(c)"
   ]
  },
  {
   "cell_type": "code",
   "execution_count": 124,
   "id": "1ec7e092-7db8-4ecd-a685-012c3ecf4956",
   "metadata": {},
   "outputs": [
    {
     "name": "stdout",
     "output_type": "stream",
     "text": [
      "2 bir Çift sayıdır\n",
      "4 bir Çift sayıdır\n",
      "6 bir Çift sayıdır\n",
      "8 bir Çift sayıdır\n",
      "10 bir Çift sayıdır\n"
     ]
    }
   ],
   "source": [
    "liste = [1,2,3,4,5,6,7,8,9,10,11]\n",
    "\n",
    "for a in liste:\n",
    "    if a % 2 == 0:\n",
    "        print(\"{} bir Çift sayıdır\".format(a))"
   ]
  },
  {
   "cell_type": "code",
   "execution_count": 165,
   "id": "80bab23f-3aa1-47bd-863c-4d0cf614a838",
   "metadata": {},
   "outputs": [
    {
     "name": "stdout",
     "output_type": "stream",
     "text": [
      "28\n"
     ]
    }
   ],
   "source": [
    "liste = [2,1,10,2,23,1,56,3]\n",
    " \n",
    "total = 0\n",
    "for i in liste:\n",
    "    if (not (i % 2 == 0)):\n",
    "        total += i\n",
    " \n",
    "print(total)"
   ]
  },
  {
   "cell_type": "markdown",
   "id": "70227b00-1dc6-4e9c-ac6d-8e845a102550",
   "metadata": {},
   "source": [
    "Liste içindeki demetlerin elemanlarını tek tek almanın pratik bir yolu bulunuyor."
   ]
  },
  {
   "cell_type": "code",
   "execution_count": 127,
   "id": "67761803-5da0-431a-9e85-69721e94d32b",
   "metadata": {},
   "outputs": [
    {
     "name": "stdout",
     "output_type": "stream",
     "text": [
      "ilki : 1 , ikincisi: 2\n",
      "ilki : 4 , ikincisi: 6\n",
      "ilki : 12 , ikincisi: naz\n",
      "ilki : ömer , ikincisi: 5\n"
     ]
    }
   ],
   "source": [
    "a = [(1,2),(4,6),(12,\"naz\"),(\"ömer\",5)]\n",
    "for (b,c) in a:\n",
    "    print(\"ilki : {} , ikincisi: {}\".format(b,c))"
   ]
  },
  {
   "cell_type": "markdown",
   "id": "cc8805be-8230-4f07-bf11-6455242c9802",
   "metadata": {},
   "source": [
    "Bu şekilde elemanları tek tek alıp onlara işlem de uygulayabiliriz."
   ]
  },
  {
   "cell_type": "code",
   "execution_count": 130,
   "id": "b0104172-34de-4bd0-9303-a0b888e629e4",
   "metadata": {},
   "outputs": [
    {
     "name": "stdout",
     "output_type": "stream",
     "text": [
      "6\n",
      "210\n",
      "135\n"
     ]
    }
   ],
   "source": [
    "a = [(1,2,3),(5,6,7),(9,3,5)]\n",
    "for (q,w,e) in a:\n",
    "    print(q*w*e)"
   ]
  },
  {
   "cell_type": "markdown",
   "id": "62a38d5f-a504-440f-8d31-f1ec652b59b5",
   "metadata": {},
   "source": [
    "##### **Sözlükler üzerinde gezinme**"
   ]
  },
  {
   "cell_type": "markdown",
   "id": "0657ccdb-5105-4fc4-8fad-d544f075887b",
   "metadata": {},
   "source": [
    "Daha önce sözlüklerde öğrendiğimiz *.keys( )* , *.values( )* ve *.items( )* metodlarını kullanacağız."
   ]
  },
  {
   "cell_type": "code",
   "execution_count": 169,
   "id": "3ad135a4-4286-4814-90ce-2d4be61e4a15",
   "metadata": {},
   "outputs": [
    {
     "name": "stdout",
     "output_type": "stream",
     "text": [
      "1\n",
      "2\n",
      "3\n"
     ]
    }
   ],
   "source": [
    "# Metodları kullanmadan sözlük üzerinde gezinirsek sadece keysleri alırız.\n",
    "a = {1:\"bir\",2:\"iki\",3:\"üç\"}\n",
    "for b in a:\n",
    "    print(b)"
   ]
  },
  {
   "cell_type": "code",
   "execution_count": 139,
   "id": "a5c84f66-4cd7-4f9c-8cbc-7c276c8d86a3",
   "metadata": {},
   "outputs": [
    {
     "name": "stdout",
     "output_type": "stream",
     "text": [
      "bir\n",
      "iki\n",
      "üç\n"
     ]
    }
   ],
   "source": [
    "for b in a.values():\n",
    "    print(b)"
   ]
  },
  {
   "cell_type": "code",
   "execution_count": 145,
   "id": "ea4ab52e-c586-41ff-8ff3-17f25bb9caae",
   "metadata": {},
   "outputs": [
    {
     "name": "stdout",
     "output_type": "stream",
     "text": [
      "1 bir\n",
      "2 iki\n",
      "3 üç\n"
     ]
    }
   ],
   "source": [
    "for q,w in a.items():  #Burada liste içindeki demetlerin elemanlarını ayırmak için kullandığımız yöntemi kullandık\n",
    "    print(q,w)"
   ]
  },
  {
   "cell_type": "markdown",
   "id": "a2751a0f-7ecd-4616-956f-054fb404b182",
   "metadata": {},
   "source": [
    "### While Döngüleri"
   ]
  },
  {
   "cell_type": "markdown",
   "id": "b6ab43fa-ae25-46b7-bdde-6d9c2244d60d",
   "metadata": {},
   "source": [
    "While Döngüsü belli bir koşul sağlandığı sürece bloğundaki işlemleri çalıştırır. Ancak while'ın çalışması için koşulun bir süre sonra **False** olması gerekir. Yoksa sonsuzluğa giden bir koşulla while çalışmaz!\n",
    "\n",
    "                                    while (koşul):\n",
    "                                        İşlem1\n",
    "                                        İşlem2\n",
    "                                        İşlem3\n",
    "                                        .\n",
    "                                        .\n",
    "                                        ."
   ]
  },
  {
   "cell_type": "code",
   "execution_count": 173,
   "id": "93d5f5b1-3ccd-45e4-814b-99cdb3dce9be",
   "metadata": {},
   "outputs": [
    {
     "name": "stdout",
     "output_type": "stream",
     "text": [
      "0\n",
      "1\n",
      "2\n",
      "3\n",
      "4\n",
      "5\n",
      "6\n",
      "7\n",
      "8\n",
      "9\n"
     ]
    }
   ],
   "source": [
    "k = 0\n",
    "\n",
    "while (k < 10):\n",
    "    print(k)\n",
    "    k += 1"
   ]
  },
  {
   "cell_type": "code",
   "execution_count": 175,
   "id": "3f2ac1bf-86e7-41a9-bb36-cc3fb2f94acf",
   "metadata": {},
   "outputs": [
    {
     "name": "stdout",
     "output_type": "stream",
     "text": [
      "0\n",
      "1\n",
      "2\n",
      "3\n",
      "4\n",
      "5\n"
     ]
    }
   ],
   "source": [
    "liste = [1,2,3,4,5,6]\n",
    "index = 0\n",
    "\n",
    "while index < len(liste):   # Listenin uzunluğu kadar (6) yazdı\n",
    "    print(index)\n",
    "    index += 1"
   ]
  },
  {
   "cell_type": "markdown",
   "id": "6461c52d-78cb-49cf-bc4f-437f757e0bd4",
   "metadata": {},
   "source": [
    "Eğer while döngümüze bir arttırma işlemi vb. bir işlem uygulamazsak yazılım sonsuza gider ve bu sıkıntı çıkarabilir."
   ]
  },
  {
   "cell_type": "markdown",
   "id": "03a893ad-5831-457a-8f94-0d1c5b695289",
   "metadata": {},
   "source": [
    "### range() Fonksiyonu"
   ]
  },
  {
   "cell_type": "markdown",
   "id": "3160c2b2-ed90-4025-a324-80bfff0e4fa0",
   "metadata": {},
   "source": [
    "Belirlediğimiz değerler arasında bir sayı dizisi oluşturur."
   ]
  },
  {
   "cell_type": "code",
   "execution_count": 188,
   "id": "a31afe4b-6d08-4c87-8068-f008169175eb",
   "metadata": {},
   "outputs": [
    {
     "data": {
      "text/plain": [
       "range(0, 20)"
      ]
     },
     "execution_count": 188,
     "metadata": {},
     "output_type": "execute_result"
    }
   ],
   "source": [
    "range(0,20)"
   ]
  },
  {
   "cell_type": "code",
   "execution_count": 190,
   "id": "14211845-95e0-46c7-bb61-369f328c9b24",
   "metadata": {},
   "outputs": [
    {
     "name": "stdout",
     "output_type": "stream",
     "text": [
      "0 1 2 3 4 5 6 7 8 9 10 11 12 13 14 15 16 17 18 19\n"
     ]
    }
   ],
   "source": [
    "print(*range(0,20))"
   ]
  },
  {
   "cell_type": "code",
   "execution_count": 194,
   "id": "14f84345-df08-492a-8f4e-fbf65c9ca241",
   "metadata": {},
   "outputs": [
    {
     "name": "stdout",
     "output_type": "stream",
     "text": [
      "0 1 2 3 4 5 6 7 8 9 10 11 12 13 14\n"
     ]
    }
   ],
   "source": [
    "print(*range(15)) # Başlangıç değeri vermezsek 0'dan başlar."
   ]
  },
  {
   "cell_type": "code",
   "execution_count": 196,
   "id": "7e645d2b-9071-48d9-9b47-73ce54a7d9f4",
   "metadata": {},
   "outputs": [
    {
     "name": "stdout",
     "output_type": "stream",
     "text": [
      "1 3 5 7 9 11 13 15 17 19 21 23 25 27 29 31 33 35 37 39 41 43 45 47 49 51 53 55 57 59 61 63 65 67 69 71 73 75 77 79 81 83 85 87 89 91 93 95 97 99\n"
     ]
    }
   ],
   "source": [
    "print(*range(1,100,2)) # içeride en sona yazdığımız 2 değeri dizinin ikişer ikişer atlayarak gideceğini gösterir."
   ]
  },
  {
   "cell_type": "code",
   "execution_count": 198,
   "id": "fca693f3-1a30-4eac-b30f-921e0119eebb",
   "metadata": {},
   "outputs": [
    {
     "name": "stdout",
     "output_type": "stream",
     "text": [
      "20 19 18 17 16 15 14 13 12 11 10 9 8 7 6 5 4 3 2 1\n"
     ]
    }
   ],
   "source": [
    "print(*range(20,0,-1)) # Geriden saymasını istiyorsak sona -1 yazıyoruz."
   ]
  },
  {
   "cell_type": "markdown",
   "id": "4fd1b6e0-ca71-48cb-89ba-2db01f7fedab",
   "metadata": {},
   "source": [
    "**range fonksiyonunu for döngülerinde kullanalım.**"
   ]
  },
  {
   "cell_type": "code",
   "execution_count": 205,
   "id": "296bdd9c-8117-47a2-9d11-d4809b361917",
   "metadata": {},
   "outputs": [
    {
     "name": "stdout",
     "output_type": "stream",
     "text": [
      "1\n",
      "2\n",
      "3\n",
      "4\n",
      "5\n",
      "6\n",
      "7\n",
      "8\n",
      "9\n",
      "10\n"
     ]
    }
   ],
   "source": [
    "for i in range(1,11):\n",
    "    print(i)"
   ]
  },
  {
   "cell_type": "code",
   "execution_count": 209,
   "id": "6c603d7c-2314-4463-be01-b4df6ef22232",
   "metadata": {},
   "outputs": [
    {
     "name": "stdout",
     "output_type": "stream",
     "text": [
      "\n",
      ":3\n",
      ":3:3\n",
      ":3:3:3\n",
      ":3:3:3:3\n",
      ":3:3:3:3:3\n",
      ":3:3:3:3:3:3\n",
      ":3:3:3:3:3:3:3\n",
      ":3:3:3:3:3:3:3:3\n",
      ":3:3:3:3:3:3:3:3:3\n"
     ]
    }
   ],
   "source": [
    "for i in range(10):\n",
    "    print(\":3\" * i)"
   ]
  },
  {
   "cell_type": "markdown",
   "id": "e1df6ac4-6245-4e0e-82ce-4912818c93a4",
   "metadata": {},
   "source": [
    "### Döngülerde kullanılan ifadeler: break ve continue"
   ]
  },
  {
   "cell_type": "markdown",
   "id": "afc2f6d0-259e-4a1b-81df-9bbafa59dfc0",
   "metadata": {},
   "source": [
    "break ve continue ifadeleri ile döngüleri daha efektif kullanabiliyoruz."
   ]
  },
  {
   "cell_type": "markdown",
   "id": "03df31cd-8628-4b9f-ab3b-ccac8a9fea88",
   "metadata": {},
   "source": [
    "#### break İfadesi"
   ]
  },
  {
   "cell_type": "markdown",
   "id": "403afc6b-980c-4b1f-b804-fcdca477bb62",
   "metadata": {},
   "source": [
    "döngü çalışırken break ifadesiyle karşılaşırsa çalışmayı aniden durdurur. bu ifade **sadece ve sadece içinde bulunduğu döngüyü** sonlandırır."
   ]
  },
  {
   "cell_type": "code",
   "execution_count": 249,
   "id": "a2b40aa3-05a0-4da3-b35b-3416c9beea00",
   "metadata": {},
   "outputs": [
    {
     "name": "stdout",
     "output_type": "stream",
     "text": [
      "1\n",
      "2\n",
      "3\n"
     ]
    }
   ],
   "source": [
    "x = 0\n",
    "\n",
    "while x < 10:\n",
    "    x += 1\n",
    "    print(x)\n",
    "    if x == 3:\n",
    "        break"
   ]
  },
  {
   "cell_type": "code",
   "execution_count": 251,
   "id": "24fd4b63-496d-4d85-82d9-dc3232efc5be",
   "metadata": {},
   "outputs": [
    {
     "name": "stdin",
     "output_type": "stream",
     "text": [
      "İsim(Çıkmak için 'exit' yazınız.): ömer\n"
     ]
    },
    {
     "name": "stdout",
     "output_type": "stream",
     "text": [
      "Giriş Başarılı.\n",
      "İsminiz: ömer\n"
     ]
    }
   ],
   "source": [
    "while True:     # bir sonlandırma ifadesi gelene kadar sonsuza kadar devam edeceğini gösterir.\n",
    "    isim = input(\"İsim(Çıkmak için 'exit' yazınız.):\")\n",
    "    if isim == \"exit\":\n",
    "        print(\"Program sonlandırılıyor...\")\n",
    "        break\n",
    "    print(\"Giriş Başarılı.\")\n",
    "    print(\"İsminiz:\",isim)\n",
    "    break"
   ]
  },
  {
   "cell_type": "markdown",
   "id": "0d786ff1-afb7-434d-b602-3158047e728f",
   "metadata": {},
   "source": [
    "#### continue İfadesi"
   ]
  },
  {
   "cell_type": "markdown",
   "id": "41eb7c0a-2170-428d-8da7-ddedc9803fae",
   "metadata": {},
   "source": [
    "döngü **continue** ifadesi ile karşılaştığında işleme devam etmeyip bloğun başına döner."
   ]
  },
  {
   "cell_type": "markdown",
   "id": "87d0e566-5230-43d2-ba53-3db30c5961d2",
   "metadata": {},
   "source": [
    "break işleminin devam eden şekli gibi düşünebiliriz. programı tamamen sonlandırmak yerine sadece verilen koşulu **UYGULAMAYIP** geri bloğun başına gidiyor yani işlemi uygulamaya devam ediyor."
   ]
  },
  {
   "cell_type": "code",
   "execution_count": 266,
   "id": "bfb301c3-0908-43f6-b27b-27e7f2974d1b",
   "metadata": {},
   "outputs": [],
   "source": [
    "a = list(range(6))"
   ]
  },
  {
   "cell_type": "code",
   "execution_count": 268,
   "id": "e73fa49e-ac34-43c6-bbc8-456f7c215b75",
   "metadata": {},
   "outputs": [
    {
     "name": "stdout",
     "output_type": "stream",
     "text": [
      "0\n",
      "1\n",
      "2\n",
      "3\n",
      "4\n",
      "5\n"
     ]
    }
   ],
   "source": [
    "for b in a:\n",
    "    print(b)"
   ]
  },
  {
   "cell_type": "code",
   "execution_count": 270,
   "id": "4de4b7aa-c4fd-4906-a155-6db64b27833f",
   "metadata": {},
   "outputs": [
    {
     "name": "stdout",
     "output_type": "stream",
     "text": [
      "0\n",
      "1\n",
      "3\n",
      "5\n"
     ]
    }
   ],
   "source": [
    "for b in a:\n",
    "    if (b == 2 or b == 4):\n",
    "        continue\n",
    "    print(b)"
   ]
  },
  {
   "cell_type": "markdown",
   "id": "2b375b1e-6953-43b3-8da9-91739bc92927",
   "metadata": {},
   "source": [
    "**Yukarıda gördüğünz gibi 2 ve 4'e geldiğinde o işlemi yapmayıp tekrar for döngüsüne yani bloğun başına geri döndü ve böylece devam etti.**"
   ]
  },
  {
   "cell_type": "markdown",
   "id": "6b178f32-bbe7-4687-bb6b-01f1aad2f9d8",
   "metadata": {},
   "source": [
    "**ÖNEMLİ:** while gibi sonsuzluğa sokabilecek döngülerde continue kullanmak tehlikelidir. Dikkatli olunmalı."
   ]
  },
  {
   "cell_type": "code",
   "execution_count": null,
   "id": "6dc2272e-021c-4fb9-a7d7-eccff8c5fc18",
   "metadata": {},
   "outputs": [],
   "source": [
    "z = 0\n",
    "\n",
    "while z < 10:\n",
    "\n",
    "    if z == 3:\n",
    "        continue\n",
    "    print(z)\n",
    "    z += 1\n",
    "\n",
    "# ÇALIŞTIRMA."
   ]
  },
  {
   "cell_type": "markdown",
   "id": "a7a869f0-1451-46ab-a86f-eb67d56863ab",
   "metadata": {},
   "source": [
    "Şu an bu kod sonsuz döngüye girdi. Çünkü **z = 3** olduğunda tekrar bloğun başına **z = 3 olarak** gidiyor ve sonsuza kadar sıkışıyor. Bunu engellemenin bir yolu var."
   ]
  },
  {
   "cell_type": "code",
   "execution_count": 278,
   "id": "839841ed-bf7d-4f62-9994-f2208ed5328b",
   "metadata": {},
   "outputs": [
    {
     "name": "stdout",
     "output_type": "stream",
     "text": [
      "0\n",
      "1\n",
      "2\n",
      "4\n",
      "5\n",
      "6\n",
      "7\n",
      "8\n",
      "9\n"
     ]
    }
   ],
   "source": [
    "z = 0\n",
    "\n",
    "while z < 10:\n",
    "\n",
    "    if z == 3:\n",
    "        z += 1  # >>>>> Bu ifadeyi eklersek bloğun başına z = 4 olarak gidecek ve işlem sonsuz döngüye girmeyecek.\n",
    "        continue\n",
    "    print(z)\n",
    "    z += 1"
   ]
  },
  {
   "cell_type": "markdown",
   "id": "5921dba3-2b58-4091-b345-9016901308d0",
   "metadata": {},
   "source": [
    "### List Comprehension"
   ]
  },
  {
   "cell_type": "markdown",
   "id": "e8653ce0-d46d-4bd8-851b-c2463d1a2408",
   "metadata": {},
   "source": [
    "Bir listeden farklı bir liste oluşturma yöntemi."
   ]
  },
  {
   "cell_type": "code",
   "execution_count": 7,
   "id": "6fc1c136-ceff-4801-9d7c-836a004b2ecb",
   "metadata": {},
   "outputs": [
    {
     "name": "stdout",
     "output_type": "stream",
     "text": [
      "[1, 2, 3, 4, 5]\n"
     ]
    }
   ],
   "source": [
    "liste1 = [1,2,3,4,5]\n",
    "liste2 = []\n",
    "\n",
    "for i in liste1:\n",
    "    liste2.append(i)\n",
    "\n",
    "print(liste2)"
   ]
  },
  {
   "cell_type": "markdown",
   "id": "77fc0b3b-404b-4311-81c0-86c83687dc07",
   "metadata": {},
   "source": [
    "**Bu uzun bir yöntem. Şimdi list comprehension'u öğrenelim**"
   ]
  },
  {
   "cell_type": "code",
   "execution_count": 11,
   "id": "fe41cdcb-8c42-4ae2-a89c-36ceab37f354",
   "metadata": {},
   "outputs": [
    {
     "name": "stdout",
     "output_type": "stream",
     "text": [
      "[1, 2, 3]\n"
     ]
    }
   ],
   "source": [
    "liste3 = [1,2,3]\n",
    "liste4 = [i for i in liste3]\n",
    "\n",
    "print(liste4)"
   ]
  },
  {
   "cell_type": "markdown",
   "id": "196b377b-f92a-43be-a693-298e15a0c2d0",
   "metadata": {},
   "source": [
    "**parantezin içini ikiye ayırıp işlem yapıyor gibi düşünebiliriz.**"
   ]
  },
  {
   "cell_type": "code",
   "execution_count": 14,
   "id": "64e71f54-0abf-42ff-ac28-9654f7b95500",
   "metadata": {},
   "outputs": [],
   "source": [
    "# liste = [değişken |||| for değişken in liste]"
   ]
  },
  {
   "cell_type": "code",
   "execution_count": 22,
   "id": "a33c97b8-7dc5-46e2-811a-b615654c709d",
   "metadata": {},
   "outputs": [
    {
     "data": {
      "text/plain": [
       "[10, 8, 6]"
      ]
     },
     "execution_count": 22,
     "metadata": {},
     "output_type": "execute_result"
    }
   ],
   "source": [
    "liste5 = [5,4,3]\n",
    "liste6 = [i*2 for i in liste5]\n",
    "\n",
    "liste6"
   ]
  },
  {
   "cell_type": "code",
   "execution_count": 30,
   "id": "917b3fc4-7447-4433-b300-c1de571481c4",
   "metadata": {},
   "outputs": [
    {
     "name": "stdout",
     "output_type": "stream",
     "text": [
      "[2, 30, 108]\n"
     ]
    }
   ],
   "source": [
    "liste1 = [(1,2),(5,6),(9,12)]\n",
    "liste2 = [i*j for i,j in liste1]\n",
    "\n",
    "print(liste2)"
   ]
  },
  {
   "cell_type": "markdown",
   "id": "a00cbfae-d69a-452c-b104-20a4dfc94cc4",
   "metadata": {},
   "source": [
    "**Liste içindeki listeleri tek bir liste yapmak:**"
   ]
  },
  {
   "cell_type": "code",
   "execution_count": 35,
   "id": "21cd383d-086d-4129-a19d-7608710d2947",
   "metadata": {},
   "outputs": [
    {
     "name": "stdout",
     "output_type": "stream",
     "text": [
      "[1, 2, 3, 10, 11, 12, 13, 14, -1, -2, -3]\n"
     ]
    }
   ],
   "source": [
    "liste1 = [[1,2,3],[10,11,12,13,14],[-1,-2,-3]]\n",
    "liste2 = []\n",
    "\n",
    "for i in liste1:\n",
    "    for k in i:\n",
    "        liste2.append(k)\n",
    "\n",
    "print(liste2)"
   ]
  },
  {
   "cell_type": "markdown",
   "id": "31a12a0e-d97a-4d5b-8284-df6831ad8495",
   "metadata": {},
   "source": [
    "**Bunu List Comprehension ile yapalım şimdi.**"
   ]
  },
  {
   "cell_type": "code",
   "execution_count": 46,
   "id": "9ca4f4b9-a534-450c-96d4-6fa3f834a8e8",
   "metadata": {},
   "outputs": [
    {
     "name": "stdout",
     "output_type": "stream",
     "text": [
      "[1, 2, 3, 10, 11, 12, 13, 14, -1, -2, -3]\n"
     ]
    }
   ],
   "source": [
    "liste1 = [[1,2,3],[10,11,12,13,14],[-1,-2,-3]]\n",
    "liste2 = [k for i in liste1 for k in i]\n",
    "\n",
    "print(liste2)"
   ]
  },
  {
   "cell_type": "code",
   "execution_count": null,
   "id": "1da133a7-ee74-4f76-99cb-2d45e0b7819f",
   "metadata": {},
   "outputs": [],
   "source": []
  },
  {
   "cell_type": "code",
   "execution_count": null,
   "id": "e8f50d51-a318-4012-a967-500446f80840",
   "metadata": {},
   "outputs": [],
   "source": []
  }
 ],
 "metadata": {
  "kernelspec": {
   "display_name": "Python [conda env:base] *",
   "language": "python",
   "name": "conda-base-py"
  },
  "language_info": {
   "codemirror_mode": {
    "name": "ipython",
    "version": 3
   },
   "file_extension": ".py",
   "mimetype": "text/x-python",
   "name": "python",
   "nbconvert_exporter": "python",
   "pygments_lexer": "ipython3",
   "version": "3.12.7"
  }
 },
 "nbformat": 4,
 "nbformat_minor": 5
}
