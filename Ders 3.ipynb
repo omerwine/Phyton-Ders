{
 "cells": [
  {
   "cell_type": "markdown",
   "id": "1a1bc7fc-b401-4ff3-8a20-03dee1afddc8",
   "metadata": {},
   "source": [
    "# Metodlar"
   ]
  },
  {
   "cell_type": "markdown",
   "id": "9b1d4071-de92-443f-9976-fc7b8117fcab",
   "metadata": {},
   "source": [
    "Metodlar, bir obje üzerinde belli işlemleri gerçekleştiren objelere özgü fonksiyonlardır."
   ]
  },
  {
   "cell_type": "code",
   "execution_count": 4,
   "id": "e7ccf201-ce28-40a6-8178-fd4f9dea31c0",
   "metadata": {},
   "outputs": [
    {
     "data": {
      "text/plain": [
       "list"
      ]
     },
     "execution_count": 4,
     "metadata": {},
     "output_type": "execute_result"
    }
   ],
   "source": [
    "a = [1,2,3,4,5]\n",
    "type(a)"
   ]
  },
  {
   "cell_type": "code",
   "execution_count": 6,
   "id": "84e20eaf-2b87-4cb9-a2b6-bd0f42b0c2ec",
   "metadata": {},
   "outputs": [
    {
     "data": {
      "text/plain": [
       "[1, 'Ömer', 2, 3, 4, 5]"
      ]
     },
     "execution_count": 6,
     "metadata": {},
     "output_type": "execute_result"
    }
   ],
   "source": [
    "a.insert(1,\"Ömer\")\n",
    "a"
   ]
  },
  {
   "cell_type": "code",
   "execution_count": 8,
   "id": "031ce2d5-f547-4cc2-a129-46d852f42650",
   "metadata": {},
   "outputs": [
    {
     "data": {
      "text/plain": [
       "[1, 'Ömer', 2, 3, 4, 5, 'Naz']"
      ]
     },
     "execution_count": 8,
     "metadata": {},
     "output_type": "execute_result"
    }
   ],
   "source": [
    "a.append(\"Naz\")\n",
    "a"
   ]
  },
  {
   "cell_type": "code",
   "execution_count": 10,
   "id": "14c224f2-f452-4da5-80e7-2fe61f75cab3",
   "metadata": {},
   "outputs": [
    {
     "data": {
      "text/plain": [
       "[1, 'Ömer', 2, 3, 4, 5]"
      ]
     },
     "execution_count": 10,
     "metadata": {},
     "output_type": "execute_result"
    }
   ],
   "source": [
    "a.pop()\n",
    "a"
   ]
  },
  {
   "cell_type": "code",
   "execution_count": 12,
   "id": "bb8fdca4-b651-4375-8574-74c0e168462f",
   "metadata": {},
   "outputs": [
    {
     "name": "stdout",
     "output_type": "stream",
     "text": [
      "Help on built-in function pop:\n",
      "\n",
      "pop(index=-1, /) method of builtins.list instance\n",
      "    Remove and return item at index (default last).\n",
      "\n",
      "    Raises IndexError if list is empty or index is out of range.\n",
      "\n"
     ]
    }
   ],
   "source": [
    "help(a.pop)"
   ]
  },
  {
   "cell_type": "markdown",
   "id": "d05b577b-ff31-4b06-bce6-503058d766a7",
   "metadata": {},
   "source": [
    "# Fonksiyonlar"
   ]
  },
  {
   "cell_type": "markdown",
   "id": "1538f789-ef3f-4f74-8465-cca24d698746",
   "metadata": {},
   "source": [
    "Fonksiyonlar programlamada belli işlevleri olan ve tekrar tekrar kullandığımız yapılardır."
   ]
  },
  {
   "cell_type": "markdown",
   "id": "6da1e04a-6ec8-4ca6-b52c-b7a4bc9776e1",
   "metadata": {},
   "source": [
    "Phyton geliştiricilerinin hazırladığı fonksiyonlara *built in function* denir. Ancak bunlar dışında bizim hazırladığımız fonksiyonlara *user-defined functions* denir."
   ]
  },
  {
   "cell_type": "markdown",
   "id": "4af25aa1-5085-431b-bcd2-a34826260ae8",
   "metadata": {},
   "source": [
    "Kendi fonksiyonlarımızı nasıl tanımlayacağımızı öğrenelim."
   ]
  },
  {
   "cell_type": "markdown",
   "id": "a9f69518-5e5d-4306-a252-d448c8194e65",
   "metadata": {},
   "source": [
    "### Fonksiyonların Tanımlanması"
   ]
  },
  {
   "cell_type": "markdown",
   "id": "fbeb0cfc-010a-4613-8040-fcbce85dff71",
   "metadata": {},
   "source": [
    "        def fonksiyon_adı(parametre1,parametre2...(opsiyonel)):\n",
    "        # Fonksiyon bloğu\n",
    "        Yapılacak İşlemler\n",
    "        # dönüş değeri - Opsiyonel"
   ]
  },
  {
   "cell_type": "code",
   "execution_count": 20,
   "id": "06df44ef-207d-4407-82d5-82174742512e",
   "metadata": {},
   "outputs": [],
   "source": [
    "def merhaba():\n",
    "    print(\"Merhaba!\")\n",
    "    print(\"Nasılsınız?\")"
   ]
  },
  {
   "cell_type": "code",
   "execution_count": 22,
   "id": "2e3b9d2b-f55f-4f0a-931a-4f2c6bcee250",
   "metadata": {},
   "outputs": [
    {
     "data": {
      "text/plain": [
       "function"
      ]
     },
     "execution_count": 22,
     "metadata": {},
     "output_type": "execute_result"
    }
   ],
   "source": [
    "type(merhaba)"
   ]
  },
  {
   "cell_type": "code",
   "execution_count": 29,
   "id": "2551a3a9-c222-44be-a0b0-7fcf406bae04",
   "metadata": {},
   "outputs": [
    {
     "name": "stdout",
     "output_type": "stream",
     "text": [
      "Merhaba!\n",
      "Nasılsınız?\n"
     ]
    }
   ],
   "source": [
    "merhaba()"
   ]
  },
  {
   "cell_type": "markdown",
   "id": "90a94755-7f7e-46c8-a862-f90833531f10",
   "metadata": {},
   "source": [
    "### Parametreler ve Argümanlar"
   ]
  },
  {
   "cell_type": "code",
   "execution_count": 32,
   "id": "cd73b711-b5b3-446f-84da-a3afd108ae11",
   "metadata": {},
   "outputs": [],
   "source": [
    "def ömer(isim):\n",
    "    print(\"İsminiz:\",isim)"
   ]
  },
  {
   "cell_type": "code",
   "execution_count": 36,
   "id": "4992b98f-6b36-47ab-8927-43367adb6f42",
   "metadata": {},
   "outputs": [
    {
     "name": "stdout",
     "output_type": "stream",
     "text": [
      "İsminiz: naz\n"
     ]
    }
   ],
   "source": [
    "ömer(\"naz\")"
   ]
  },
  {
   "cell_type": "code",
   "execution_count": 41,
   "id": "81c1cb09-808b-43ea-a69d-eb0859b9845b",
   "metadata": {},
   "outputs": [],
   "source": [
    "def toplama(a,b,c):\n",
    "    print(\"Toplamları\",a+b+c)"
   ]
  },
  {
   "cell_type": "code",
   "execution_count": 43,
   "id": "9a7d51de-5a36-4bf2-be48-81ce42447590",
   "metadata": {},
   "outputs": [
    {
     "name": "stdout",
     "output_type": "stream",
     "text": [
      "Toplamları 12\n"
     ]
    }
   ],
   "source": [
    "toplama(3,4,5)"
   ]
  },
  {
   "cell_type": "code",
   "execution_count": 49,
   "id": "599996cb-6196-46fc-bb77-b8ad1811b94b",
   "metadata": {},
   "outputs": [],
   "source": [
    "def faktöriyel(sayı):\n",
    "    faktoriyel = 1\n",
    "    if (sayı == 0 or sayı == 1):\n",
    "        print(\"Faktöriyel:\",faktoriyel)\n",
    "    else:\n",
    "        while (sayı >= 1):\n",
    "            faktoriyel *= sayı\n",
    "            sayı -= 1\n",
    "        print(\"Faktöriyel:\",faktoriyel)"
   ]
  },
  {
   "cell_type": "code",
   "execution_count": 51,
   "id": "a892f50d-2c27-457d-b5c1-5cf113ffbe97",
   "metadata": {},
   "outputs": [
    {
     "name": "stdout",
     "output_type": "stream",
     "text": [
      "Faktöriyel: 120\n"
     ]
    }
   ],
   "source": [
    "faktöriyel(5)"
   ]
  },
  {
   "cell_type": "markdown",
   "id": "698cb664-8234-4934-9632-b2c9dccf83e7",
   "metadata": {},
   "source": [
    "### Fonksiyonlarda Return"
   ]
  },
  {
   "cell_type": "markdown",
   "id": "484b6cd6-0ebc-4098-b192-a6fb72c2f967",
   "metadata": {},
   "source": [
    "**return** ifadesi fonksiyonun işlemi bittikten sonra **çağrıldığı yere** değer döndürmesi anlamını taşır."
   ]
  },
  {
   "cell_type": "code",
   "execution_count": 57,
   "id": "c5273cec-6b43-457f-877d-850c693b1b8d",
   "metadata": {},
   "outputs": [],
   "source": [
    "def toplama(a,b,c):\n",
    "    print(a+b+c)\n",
    "\n",
    "def ikiyleçarp(a):\n",
    "    print(2*a)"
   ]
  },
  {
   "cell_type": "code",
   "execution_count": 59,
   "id": "43fb11f9-d527-4f3f-9ca6-9f60b46ca750",
   "metadata": {},
   "outputs": [
    {
     "name": "stdout",
     "output_type": "stream",
     "text": [
      "12\n"
     ]
    },
    {
     "ename": "TypeError",
     "evalue": "unsupported operand type(s) for *: 'int' and 'NoneType'",
     "output_type": "error",
     "traceback": [
      "\u001b[1;31m---------------------------------------------------------------------------\u001b[0m",
      "\u001b[1;31mTypeError\u001b[0m                                 Traceback (most recent call last)",
      "Cell \u001b[1;32mIn[59], line 2\u001b[0m\n\u001b[0;32m      1\u001b[0m toplam \u001b[38;5;241m=\u001b[39m toplama(\u001b[38;5;241m3\u001b[39m,\u001b[38;5;241m4\u001b[39m,\u001b[38;5;241m5\u001b[39m)\n\u001b[1;32m----> 2\u001b[0m ikiyleçarp(toplam)\n",
      "Cell \u001b[1;32mIn[57], line 5\u001b[0m, in \u001b[0;36mikiyleçarp\u001b[1;34m(a)\u001b[0m\n\u001b[0;32m      4\u001b[0m \u001b[38;5;28;01mdef\u001b[39;00m \u001b[38;5;21mikiyleçarp\u001b[39m(a):\n\u001b[1;32m----> 5\u001b[0m     \u001b[38;5;28mprint\u001b[39m(\u001b[38;5;241m2\u001b[39m\u001b[38;5;241m*\u001b[39ma)\n",
      "\u001b[1;31mTypeError\u001b[0m: unsupported operand type(s) for *: 'int' and 'NoneType'"
     ]
    }
   ],
   "source": [
    "toplam = toplama(3,4,5)\n",
    "ikiyleçarp(toplam)"
   ]
  },
  {
   "cell_type": "code",
   "execution_count": 65,
   "id": "2c491488-441c-4da2-a6a7-b0fbe6b153d0",
   "metadata": {},
   "outputs": [
    {
     "data": {
      "text/plain": [
       "NoneType"
      ]
     },
     "execution_count": 65,
     "metadata": {},
     "output_type": "execute_result"
    }
   ],
   "source": [
    "type(toplam)"
   ]
  },
  {
   "cell_type": "markdown",
   "id": "12a9ea34-5c83-4575-8d2f-92280e5fa658",
   "metadata": {},
   "source": [
    "**NoneType çünkü biz sadece print işlemini yaptırdık. Çıkan sonucun değerini fonksiyonumuza geri göndermedik.**"
   ]
  },
  {
   "cell_type": "markdown",
   "id": "1e953c2a-9cfb-429b-9e64-bf7867c77c67",
   "metadata": {},
   "source": [
    "Şimdi return kullanalım."
   ]
  },
  {
   "cell_type": "code",
   "execution_count": 72,
   "id": "14af1776-7452-4a85-8865-6fd9d56aec3e",
   "metadata": {},
   "outputs": [],
   "source": [
    "def toplama(a,b,c):\n",
    "    return a+b+c     # \"Bu fonksiyonu bize a+b+c olarak gönder.\"\" diyoruz.\n",
    "\n",
    "def ikiyleçarp(a):\n",
    "    return a*2       # \"Bu fonksiyonu bize a*2 olarak gönder.\"\" diyoruz."
   ]
  },
  {
   "cell_type": "code",
   "execution_count": 78,
   "id": "44018a8d-b39d-40d3-b9da-c011f7b96145",
   "metadata": {},
   "outputs": [
    {
     "name": "stdout",
     "output_type": "stream",
     "text": [
      "24\n"
     ]
    }
   ],
   "source": [
    "a = toplama(3,4,5)\n",
    "print(ikiyleçarp(a))"
   ]
  },
  {
   "cell_type": "markdown",
   "id": "27cdd5b2-8e5c-4d99-9359-8376d0bccdb0",
   "metadata": {},
   "source": [
    "Return bir fonksiyonu tamamen sonlandıran bir ifade. returndan sonra yazdığınız işlemler çalışmaz."
   ]
  },
  {
   "cell_type": "code",
   "execution_count": 81,
   "id": "0a9d3f00-ea2b-42e6-afdf-aa80193ab66b",
   "metadata": {},
   "outputs": [],
   "source": [
    "def toplama(a,b,c):\n",
    "    return a+b+c\n",
    "    print(\"Merhaba\")"
   ]
  },
  {
   "cell_type": "code",
   "execution_count": 87,
   "id": "a09f7dde-81da-4f16-bcd7-3851073598bd",
   "metadata": {},
   "outputs": [
    {
     "name": "stdout",
     "output_type": "stream",
     "text": [
      "12\n"
     ]
    }
   ],
   "source": [
    "print(toplama(5,3,4))"
   ]
  },
  {
   "cell_type": "code",
   "execution_count": 89,
   "id": "3ae7349b-b0c4-4ff5-894e-52eeb451af8b",
   "metadata": {
    "scrolled": true
   },
   "outputs": [],
   "source": [
    "def toplama(a,b,c):\n",
    "    print(\"Merhaba\")\n",
    "    return a+b+c"
   ]
  },
  {
   "cell_type": "code",
   "execution_count": 91,
   "id": "ede037a7-33e6-4df8-8830-97654e7243a7",
   "metadata": {},
   "outputs": [
    {
     "name": "stdout",
     "output_type": "stream",
     "text": [
      "Merhaba\n",
      "12\n"
     ]
    }
   ],
   "source": [
    "print(toplama(5,3,4))"
   ]
  },
  {
   "cell_type": "markdown",
   "id": "c7e6b820-37c9-4f8e-b43d-6005bef3a041",
   "metadata": {},
   "source": [
    "return kullanılmayan fonksiyonlara **void** fonksiyonlar denir. Bu da ek bilgi olsun."
   ]
  },
  {
   "cell_type": "markdown",
   "id": "2d6e4333-b1b7-4676-825c-6ae08949209e",
   "metadata": {},
   "source": [
    "### Fonksiyonlarda Parametre Türleri"
   ]
  },
  {
   "cell_type": "markdown",
   "id": "24da9e09-232f-40c3-8d58-0b91166c4d44",
   "metadata": {},
   "source": [
    "##### Parametlerin Varsayılan Değerleri"
   ]
  },
  {
   "cell_type": "code",
   "execution_count": 110,
   "id": "8485735a-6459-40d8-aa66-1cc4438ff464",
   "metadata": {},
   "outputs": [],
   "source": [
    "def selamla(isim):\n",
    "    print(\"Selam\",isim)"
   ]
  },
  {
   "cell_type": "code",
   "execution_count": 112,
   "id": "74356ed7-e35c-4f87-9d04-57944c39243a",
   "metadata": {},
   "outputs": [
    {
     "name": "stdout",
     "output_type": "stream",
     "text": [
      "Selam Ömer\n"
     ]
    }
   ],
   "source": [
    "selamla(\"Ömer\")"
   ]
  },
  {
   "cell_type": "code",
   "execution_count": 114,
   "id": "97abf2b0-d2b3-4c1c-9c44-7354ae405b12",
   "metadata": {},
   "outputs": [
    {
     "ename": "TypeError",
     "evalue": "selamla() missing 1 required positional argument: 'isim'",
     "output_type": "error",
     "traceback": [
      "\u001b[1;31m---------------------------------------------------------------------------\u001b[0m",
      "\u001b[1;31mTypeError\u001b[0m                                 Traceback (most recent call last)",
      "Cell \u001b[1;32mIn[114], line 1\u001b[0m\n\u001b[1;32m----> 1\u001b[0m selamla()\n",
      "\u001b[1;31mTypeError\u001b[0m: selamla() missing 1 required positional argument: 'isim'"
     ]
    }
   ],
   "source": [
    "selamla() # Boş bırakılmıyor"
   ]
  },
  {
   "cell_type": "code",
   "execution_count": 116,
   "id": "18d07823-6a2a-434c-87f2-11a10b2b3eda",
   "metadata": {},
   "outputs": [],
   "source": [
    "def selamla(isim = \"İsimsiz\"): # Ancak eğer böyle yaparsak içini boş bırakabiliriz.\n",
    "    print(\"Selam\",isim)"
   ]
  },
  {
   "cell_type": "code",
   "execution_count": 118,
   "id": "2e865efd-2786-480d-bee4-4df46868dec1",
   "metadata": {},
   "outputs": [
    {
     "name": "stdout",
     "output_type": "stream",
     "text": [
      "Selam İsimsiz\n"
     ]
    }
   ],
   "source": [
    "selamla()"
   ]
  },
  {
   "cell_type": "markdown",
   "id": "2aa8200e-e256-4bf1-ac24-57b6a95c42df",
   "metadata": {},
   "source": [
    "##### Esnek Sayıda Değerler"
   ]
  },
  {
   "cell_type": "code",
   "execution_count": 121,
   "id": "149d577c-c9ad-476d-abf5-ca77fe7f3031",
   "metadata": {},
   "outputs": [],
   "source": [
    "def toplama(a,b,c):\n",
    "    print(a+b+c)"
   ]
  },
  {
   "cell_type": "code",
   "execution_count": 123,
   "id": "e4ae98d7-0500-452b-a354-de765d98b2e6",
   "metadata": {},
   "outputs": [
    {
     "name": "stdout",
     "output_type": "stream",
     "text": [
      "12\n"
     ]
    }
   ],
   "source": [
    "toplama(3,4,5)"
   ]
  },
  {
   "cell_type": "code",
   "execution_count": 125,
   "id": "6cc4c8a8-8eab-498b-89dc-e3297a8f3015",
   "metadata": {},
   "outputs": [
    {
     "ename": "TypeError",
     "evalue": "toplama() takes 3 positional arguments but 4 were given",
     "output_type": "error",
     "traceback": [
      "\u001b[1;31m---------------------------------------------------------------------------\u001b[0m",
      "\u001b[1;31mTypeError\u001b[0m                                 Traceback (most recent call last)",
      "Cell \u001b[1;32mIn[125], line 1\u001b[0m\n\u001b[1;32m----> 1\u001b[0m toplama(\u001b[38;5;241m3\u001b[39m,\u001b[38;5;241m4\u001b[39m,\u001b[38;5;241m5\u001b[39m,\u001b[38;5;241m6\u001b[39m)\n",
      "\u001b[1;31mTypeError\u001b[0m: toplama() takes 3 positional arguments but 4 were given"
     ]
    }
   ],
   "source": [
    "toplama(3,4,5,6)"
   ]
  },
  {
   "cell_type": "markdown",
   "id": "a025b002-86c3-409b-b2cc-90c6d435e902",
   "metadata": {},
   "source": [
    "3 Argüman var ancak 4 değer verdiğimiz için çalışmadı. Biz bunun çalışmasını sağlayacağız."
   ]
  },
  {
   "cell_type": "code",
   "execution_count": 128,
   "id": "11140e81-044c-43bd-aa03-886aa76d512a",
   "metadata": {},
   "outputs": [],
   "source": [
    "def toplama(*a):\n",
    "    print(a)"
   ]
  },
  {
   "cell_type": "code",
   "execution_count": 130,
   "id": "9fa3a066-1524-4b76-84e5-0da434de7bf4",
   "metadata": {},
   "outputs": [
    {
     "name": "stdout",
     "output_type": "stream",
     "text": [
      "(3, 4, 5, 6, 7)\n"
     ]
    }
   ],
   "source": [
    "toplama(3,4,5,6,7)"
   ]
  },
  {
   "cell_type": "code",
   "execution_count": 132,
   "id": "f10d2630-76b5-428f-b5ef-26b9262c2d29",
   "metadata": {},
   "outputs": [],
   "source": [
    "def toplama(*a):\n",
    "    toplam = 0\n",
    "    for i in a:\n",
    "        toplam += i\n",
    "    print(toplam)"
   ]
  },
  {
   "cell_type": "code",
   "execution_count": 134,
   "id": "1aaf267c-3290-49d4-bf0e-24c2d418e6b8",
   "metadata": {},
   "outputs": [
    {
     "name": "stdout",
     "output_type": "stream",
     "text": [
      "19\n"
     ]
    }
   ],
   "source": [
    "toplama(5,3,4,7)"
   ]
  },
  {
   "cell_type": "markdown",
   "id": "705fdfca-c377-4c7d-92a0-c9e1b3aaaa15",
   "metadata": {},
   "source": [
    "# Global ve Yerel Değişkenler"
   ]
  },
  {
   "cell_type": "markdown",
   "id": "9b09604c-5427-455d-9103-bbdc31be7ecb",
   "metadata": {},
   "source": [
    "**Yerel Değişkenler** bir fonksiyonun içinde tanımlanan değişkenlerdir. Sadece o fonksiyon içinde çalışabilir."
   ]
  },
  {
   "cell_type": "markdown",
   "id": "2df5a979-d441-4238-aec0-b34c384a595b",
   "metadata": {},
   "source": [
    "**Global Değişkenler** fonksiyonun dışında tanımlanan değişkenlerdir. Programın her yerinde çalışırlar."
   ]
  },
  {
   "cell_type": "code",
   "execution_count": 144,
   "id": "b9733a43-d98d-45ed-8613-e0c544de652a",
   "metadata": {},
   "outputs": [
    {
     "ename": "NameError",
     "evalue": "name 'x' is not defined",
     "output_type": "error",
     "traceback": [
      "\u001b[1;31m---------------------------------------------------------------------------\u001b[0m",
      "\u001b[1;31mNameError\u001b[0m                                 Traceback (most recent call last)",
      "Cell \u001b[1;32mIn[144], line 5\u001b[0m\n\u001b[0;32m      2\u001b[0m     k \u001b[38;5;241m=\u001b[39m \u001b[38;5;241m10\u001b[39m\n\u001b[0;32m      3\u001b[0m     \u001b[38;5;28mprint\u001b[39m(x)\n\u001b[1;32m----> 5\u001b[0m fonk()\n\u001b[0;32m      6\u001b[0m \u001b[38;5;28mprint\u001b[39m(x)\n",
      "Cell \u001b[1;32mIn[144], line 3\u001b[0m, in \u001b[0;36mfonk\u001b[1;34m()\u001b[0m\n\u001b[0;32m      1\u001b[0m \u001b[38;5;28;01mdef\u001b[39;00m \u001b[38;5;21mfonk\u001b[39m():\n\u001b[0;32m      2\u001b[0m     k \u001b[38;5;241m=\u001b[39m \u001b[38;5;241m10\u001b[39m\n\u001b[1;32m----> 3\u001b[0m     \u001b[38;5;28mprint\u001b[39m(x)\n",
      "\u001b[1;31mNameError\u001b[0m: name 'x' is not defined"
     ]
    }
   ],
   "source": [
    "def fonk():\n",
    "    k = 10\n",
    "    print(x)\n",
    "\n",
    "fonk()\n",
    "print(x)"
   ]
  },
  {
   "cell_type": "code",
   "execution_count": 158,
   "id": "b6e46bca-fd70-400d-8f88-ff09f2ef4501",
   "metadata": {},
   "outputs": [
    {
     "name": "stdout",
     "output_type": "stream",
     "text": [
      "5\n"
     ]
    }
   ],
   "source": [
    "x = 5\n",
    "def fonk():\n",
    "    print(x)\n",
    "\n",
    "fonk()"
   ]
  },
  {
   "cell_type": "code",
   "execution_count": 162,
   "id": "7a312845-18b5-41ee-9558-422073f6442d",
   "metadata": {},
   "outputs": [
    {
     "ename": "NameError",
     "evalue": "name 'w' is not defined",
     "output_type": "error",
     "traceback": [
      "\u001b[1;31m---------------------------------------------------------------------------\u001b[0m",
      "\u001b[1;31mNameError\u001b[0m                                 Traceback (most recent call last)",
      "Cell \u001b[1;32mIn[162], line 3\u001b[0m\n\u001b[0;32m      1\u001b[0m \u001b[38;5;28;01mdef\u001b[39;00m \u001b[38;5;21mfonk\u001b[39m():\n\u001b[0;32m      2\u001b[0m     \u001b[38;5;28mprint\u001b[39m(w)\n\u001b[1;32m----> 3\u001b[0m fonk()\n\u001b[0;32m      4\u001b[0m w \u001b[38;5;241m=\u001b[39m \u001b[38;5;241m5\u001b[39m\n",
      "Cell \u001b[1;32mIn[162], line 2\u001b[0m, in \u001b[0;36mfonk\u001b[1;34m()\u001b[0m\n\u001b[0;32m      1\u001b[0m \u001b[38;5;28;01mdef\u001b[39;00m \u001b[38;5;21mfonk\u001b[39m():\n\u001b[1;32m----> 2\u001b[0m     \u001b[38;5;28mprint\u001b[39m(w)\n",
      "\u001b[1;31mNameError\u001b[0m: name 'w' is not defined"
     ]
    }
   ],
   "source": [
    "def fonk():\n",
    "    print(w)\n",
    "fonk()\n",
    "w = 5"
   ]
  },
  {
   "cell_type": "code",
   "execution_count": 166,
   "id": "7a96b0f6-aa4d-4aee-b911-c7840d15fb18",
   "metadata": {},
   "outputs": [
    {
     "name": "stdout",
     "output_type": "stream",
     "text": [
      "2\n",
      "10\n"
     ]
    }
   ],
   "source": [
    "c = 10\n",
    "def fonk():\n",
    "    c = 2\n",
    "    print(c)\n",
    "    \n",
    "fonk()\n",
    "print(c)"
   ]
  },
  {
   "cell_type": "markdown",
   "id": "94eaf889-b64e-48fb-bd9c-bb0194713574",
   "metadata": {},
   "source": [
    "İki tane c değişkeni kullandık. birini global olarak diğerini yerel olarak kullandık. Gördüğünüz gibi fonksiyonun içindeki *c = 2* olduğu için fonksiyon **2** çıkarttı ancak global olan *c = 10* olduğu için c'yi printleyince **10** çıkarttı."
   ]
  },
  {
   "cell_type": "markdown",
   "id": "f510472c-8186-45df-bc2a-3d201628fdfe",
   "metadata": {},
   "source": [
    "Fonksiyonun içinde globalde tanımlı bir değişkeni kullanmak için **global** ifadesini kullanabiliriz."
   ]
  },
  {
   "cell_type": "code",
   "execution_count": 173,
   "id": "2f7dc601-8270-4961-b891-48e2253c76a6",
   "metadata": {},
   "outputs": [
    {
     "name": "stdout",
     "output_type": "stream",
     "text": [
      "3\n",
      "3\n"
     ]
    }
   ],
   "source": [
    "d = 5\n",
    "\n",
    "def fonk():\n",
    "    global d   # globaldeki \"d\" değerimiz 5 olmasına rağmen fonksiyon içinde globaldeki \"d\" değerini\n",
    "    d = 3      # 3 yapmak istediğimizi fonksiyona yazdık. Böylece artık bu fonksiyonu çalıştırınca d'ler 3 oluyor.\n",
    "    print(d)\n",
    "\n",
    "fonk()\n",
    "print(d)"
   ]
  },
  {
   "cell_type": "markdown",
   "id": "e81caf45-ba0d-4198-90e1-d80b93b5d845",
   "metadata": {},
   "source": [
    "Çok kullanışlı bir ifade değil çünkü karmaşıklık yaratabiliyor. Bunun yerine her fonksiyon kendi değişkenini oluşturursa daha iyi olur."
   ]
  },
  {
   "cell_type": "code",
   "execution_count": 176,
   "id": "6541c1f4-b091-40d8-b1c9-63b4a3570847",
   "metadata": {},
   "outputs": [
    {
     "name": "stdout",
     "output_type": "stream",
     "text": [
      "4\n",
      "4\n"
     ]
    }
   ],
   "source": [
    "if True:\n",
    "    e = 4\n",
    "    print(e)\n",
    "print(e)"
   ]
  },
  {
   "cell_type": "markdown",
   "id": "3372106b-3ba1-480b-bd24-c924aed8bd5d",
   "metadata": {},
   "source": [
    "Global olması için illa en soldaki blokta olmasına gerek yok if ve while bloğu içinde de tanımlanan değişkenler global değişken olurlar."
   ]
  },
  {
   "cell_type": "markdown",
   "id": "6733e725-88ab-4cea-be36-1eaed7652e58",
   "metadata": {
    "jp-MarkdownHeadingCollapsed": true
   },
   "source": [
    "# Lambda İfadeleri"
   ]
  },
  {
   "cell_type": "markdown",
   "id": "a3abee7b-e7a9-443e-b150-3f3b75965726",
   "metadata": {},
   "source": [
    "**lambda ifadeleri** fonksiyonlarımızı oluşturmak için phytonda kullanılan pratik bir yöntem. Daha önce **list comprehension** öğrenmiştik"
   ]
  },
  {
   "cell_type": "code",
   "execution_count": 184,
   "id": "fe7cf95a-2c5c-4813-854b-3a3c69b80275",
   "metadata": {},
   "outputs": [
    {
     "name": "stdout",
     "output_type": "stream",
     "text": [
      "[2, 4, 6, 8, 10]\n"
     ]
    }
   ],
   "source": [
    "liste3 = [1,2,3,4,5]\n",
    "liste4 = [i*2 for i in liste3] # List Comprehension\n",
    "print(liste4)"
   ]
  },
  {
   "cell_type": "markdown",
   "id": "d8f7d2ac-275a-4d2a-a4db-c4ce4216b76e",
   "metadata": {},
   "source": [
    " Aynı burada olduğu gibi lambda ifadelerinde de tek satır halinde fonksiyon oluşturabiliriz.\n",
    "\n",
    "          etiket = lambda parametre1,parametre2.... : İşlem(return)"
   ]
  },
  {
   "cell_type": "code",
   "execution_count": 190,
   "id": "fdc490a9-eba0-4911-940b-c9e0da39ea03",
   "metadata": {},
   "outputs": [
    {
     "name": "stdout",
     "output_type": "stream",
     "text": [
      "20\n"
     ]
    }
   ],
   "source": [
    "def fonk(x): # Klasik fonksiyon tanımlama\n",
    "    return x * 2\n",
    "\n",
    "print(fonk(10))"
   ]
  },
  {
   "cell_type": "code",
   "execution_count": 196,
   "id": "7b83d624-cebf-4e75-8bf2-f0db82695933",
   "metadata": {},
   "outputs": [
    {
     "name": "stdout",
     "output_type": "stream",
     "text": [
      "20\n"
     ]
    }
   ],
   "source": [
    "fonk = lambda x : x * 2 # Lambda Yöntemi\n",
    "\n",
    "print(fonk(10))"
   ]
  },
  {
   "cell_type": "code",
   "execution_count": 201,
   "id": "e99ffff6-3614-48e9-9cf7-6e2e7017686b",
   "metadata": {},
   "outputs": [
    {
     "name": "stdout",
     "output_type": "stream",
     "text": [
      "36\n"
     ]
    }
   ],
   "source": [
    "def toplama(x,y,z):\n",
    "    return x+y+z\n",
    "\n",
    "print(toplama(11,12,13))"
   ]
  },
  {
   "cell_type": "code",
   "execution_count": 203,
   "id": "952f6c3b-9e76-41d9-b781-acec8fe9f16d",
   "metadata": {},
   "outputs": [
    {
     "name": "stdout",
     "output_type": "stream",
     "text": [
      "36\n"
     ]
    }
   ],
   "source": [
    "toplama = lambda x,y,z : x+y+z\n",
    "\n",
    "print(toplama(11,12,13))"
   ]
  },
  {
   "cell_type": "code",
   "execution_count": 205,
   "id": "ff690b60-93f3-4543-a046-8a3e550c6ce5",
   "metadata": {},
   "outputs": [
    {
     "name": "stdout",
     "output_type": "stream",
     "text": [
      "remÖ\n"
     ]
    }
   ],
   "source": [
    "def terscevir(s):\n",
    "    return s[::-1]\n",
    "\n",
    "print(terscevir(\"Ömer\"))"
   ]
  },
  {
   "cell_type": "code",
   "execution_count": 207,
   "id": "36cfe633-1a4b-41d3-982d-5e0a27475289",
   "metadata": {},
   "outputs": [
    {
     "name": "stdout",
     "output_type": "stream",
     "text": [
      "nahyeS\n"
     ]
    }
   ],
   "source": [
    "terscevir = lambda s : s[::-1]\n",
    "\n",
    "print(terscevir(\"Seyhan\"))"
   ]
  },
  {
   "cell_type": "code",
   "execution_count": 239,
   "id": "d0da528c-42b9-4ba6-9fbe-c2b5f334038b",
   "metadata": {},
   "outputs": [
    {
     "name": "stdout",
     "output_type": "stream",
     "text": [
      "True\n"
     ]
    }
   ],
   "source": [
    "def çifttek(sayı):\n",
    "    return sayı % 2 == 0\n",
    "\n",
    "print(çifttek(12))"
   ]
  },
  {
   "cell_type": "code",
   "execution_count": 241,
   "id": "6f1ade57-ce26-4d5c-b761-aeebe0bc3cf8",
   "metadata": {},
   "outputs": [
    {
     "name": "stdout",
     "output_type": "stream",
     "text": [
      "False\n"
     ]
    }
   ],
   "source": [
    "çifttek = lambda sayı : sayı % 2 == 0\n",
    "\n",
    "print(çifttek(11))"
   ]
  },
  {
   "cell_type": "code",
   "execution_count": null,
   "id": "fae66cf9-ed96-4b5c-b037-8c1a29d49237",
   "metadata": {},
   "outputs": [],
   "source": []
  }
 ],
 "metadata": {
  "kernelspec": {
   "display_name": "Python [conda env:base] *",
   "language": "python",
   "name": "conda-base-py"
  },
  "language_info": {
   "codemirror_mode": {
    "name": "ipython",
    "version": 3
   },
   "file_extension": ".py",
   "mimetype": "text/x-python",
   "name": "python",
   "nbconvert_exporter": "python",
   "pygments_lexer": "ipython3",
   "version": "3.12.7"
  }
 },
 "nbformat": 4,
 "nbformat_minor": 5
}
