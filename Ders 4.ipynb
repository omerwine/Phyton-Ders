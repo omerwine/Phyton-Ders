{
 "cells": [
  {
   "cell_type": "markdown",
   "id": "36daebdb-b7ee-4dea-af74-f8d7553c0ad6",
   "metadata": {},
   "source": [
    "# Modüller"
   ]
  },
  {
   "cell_type": "markdown",
   "id": "085e4682-6c02-4eb3-85d9-52aed20dbb7f",
   "metadata": {},
   "source": [
    "## Math modülü"
   ]
  },
  {
   "cell_type": "markdown",
   "id": "b112460b-8878-49ec-b763-5a84980b268c",
   "metadata": {},
   "source": [
    "### Yöntem 1"
   ]
  },
  {
   "cell_type": "code",
   "execution_count": 6,
   "id": "020b7aed-69bd-4caf-b5fd-3684fdf1630c",
   "metadata": {},
   "outputs": [],
   "source": [
    "import math # Modülü import komudu ile içe aktarıyoruz."
   ]
  },
  {
   "cell_type": "code",
   "execution_count": 10,
   "id": "19b74fa0-c27b-48c6-8810-a9ca7d5d3bc4",
   "metadata": {},
   "outputs": [
    {
     "data": {
      "text/plain": [
       "['__doc__',\n",
       " '__loader__',\n",
       " '__name__',\n",
       " '__package__',\n",
       " '__spec__',\n",
       " 'acos',\n",
       " 'acosh',\n",
       " 'asin',\n",
       " 'asinh',\n",
       " 'atan',\n",
       " 'atan2',\n",
       " 'atanh',\n",
       " 'cbrt',\n",
       " 'ceil',\n",
       " 'comb',\n",
       " 'copysign',\n",
       " 'cos',\n",
       " 'cosh',\n",
       " 'degrees',\n",
       " 'dist',\n",
       " 'e',\n",
       " 'erf',\n",
       " 'erfc',\n",
       " 'exp',\n",
       " 'exp2',\n",
       " 'expm1',\n",
       " 'fabs',\n",
       " 'factorial',\n",
       " 'floor',\n",
       " 'fmod',\n",
       " 'frexp',\n",
       " 'fsum',\n",
       " 'gamma',\n",
       " 'gcd',\n",
       " 'hypot',\n",
       " 'inf',\n",
       " 'isclose',\n",
       " 'isfinite',\n",
       " 'isinf',\n",
       " 'isnan',\n",
       " 'isqrt',\n",
       " 'lcm',\n",
       " 'ldexp',\n",
       " 'lgamma',\n",
       " 'log',\n",
       " 'log10',\n",
       " 'log1p',\n",
       " 'log2',\n",
       " 'modf',\n",
       " 'nan',\n",
       " 'nextafter',\n",
       " 'perm',\n",
       " 'pi',\n",
       " 'pow',\n",
       " 'prod',\n",
       " 'radians',\n",
       " 'remainder',\n",
       " 'sin',\n",
       " 'sinh',\n",
       " 'sqrt',\n",
       " 'sumprod',\n",
       " 'tan',\n",
       " 'tanh',\n",
       " 'tau',\n",
       " 'trunc',\n",
       " 'ulp']"
      ]
     },
     "execution_count": 10,
     "metadata": {},
     "output_type": "execute_result"
    }
   ],
   "source": [
    "dir(math) # Modülün içindeki fonksiyonları görmemizi sağlar"
   ]
  },
  {
   "cell_type": "code",
   "execution_count": 19,
   "id": "cec51c61-3043-4d07-a10c-dea4ea72917d",
   "metadata": {},
   "outputs": [
    {
     "name": "stdout",
     "output_type": "stream",
     "text": [
      "120 4 5\n"
     ]
    }
   ],
   "source": [
    "a = math.factorial(5)\n",
    "b = math.floor(4.6)\n",
    "c = math.ceil(4.6)\n",
    "\n",
    "print(a,b,c)"
   ]
  },
  {
   "cell_type": "markdown",
   "id": "3c66310f-5878-4c36-9e62-5793b3bd5436",
   "metadata": {},
   "source": [
    "#### Modül İsmini değiştirme"
   ]
  },
  {
   "cell_type": "code",
   "execution_count": 24,
   "id": "d419e111-b3b6-497e-83c7-4a79bc650861",
   "metadata": {},
   "outputs": [],
   "source": [
    "import math as matematik"
   ]
  },
  {
   "cell_type": "code",
   "execution_count": 26,
   "id": "fc63ce5d-6c16-4efe-ad01-9263ed555ae3",
   "metadata": {},
   "outputs": [
    {
     "data": {
      "text/plain": [
       "120"
      ]
     },
     "execution_count": 26,
     "metadata": {},
     "output_type": "execute_result"
    }
   ],
   "source": [
    "matematik.factorial(5)"
   ]
  },
  {
   "cell_type": "markdown",
   "id": "9bd74e19-1eac-4cbe-b2d6-7a52373d6d57",
   "metadata": {},
   "source": [
    "### Yöntem 2"
   ]
  },
  {
   "cell_type": "code",
   "execution_count": 34,
   "id": "6b851b1e-9b98-4321-927a-ae99a6065c5a",
   "metadata": {},
   "outputs": [],
   "source": [
    "from math import * # buradaki *'ın anlamı; modüldeki tüm fonksiyonları aktarmak istediğimizi belirtir."
   ]
  },
  {
   "cell_type": "code",
   "execution_count": 40,
   "id": "0f550069-80bd-4fc8-82ca-6d9b22dc4fa6",
   "metadata": {},
   "outputs": [
    {
     "data": {
      "text/plain": [
       "24"
      ]
     },
     "execution_count": 40,
     "metadata": {},
     "output_type": "execute_result"
    }
   ],
   "source": [
    "factorial(4) # Artık modülün ismini başa yazmaya gerek kalmadı."
   ]
  },
  {
   "cell_type": "markdown",
   "id": "bb13f76f-373c-42d6-b520-19721f69e184",
   "metadata": {},
   "source": [
    "Genelde bu yöntem kullanılmaz çünkü fonksiyonun hangi modülden geldiği belli değildir ve karışıklığa yol açar."
   ]
  },
  {
   "cell_type": "markdown",
   "id": "7e9c510c-c95d-412b-9ef6-156f8f8ca53f",
   "metadata": {},
   "source": [
    "**Belli başlı fonksiyonları almak istersek bu yöntemi kullanabiliriz**"
   ]
  },
  {
   "cell_type": "code",
   "execution_count": 1,
   "id": "d003937a-2cc8-4211-8792-b716734e4a11",
   "metadata": {},
   "outputs": [],
   "source": [
    "from math import floor,ceil"
   ]
  },
  {
   "cell_type": "code",
   "execution_count": 11,
   "id": "68f6a847-595e-4d22-a745-6397bb301b8d",
   "metadata": {},
   "outputs": [
    {
     "ename": "NameError",
     "evalue": "name 'factorial' is not defined",
     "output_type": "error",
     "traceback": [
      "\u001b[1;31m---------------------------------------------------------------------------\u001b[0m",
      "\u001b[1;31mNameError\u001b[0m                                 Traceback (most recent call last)",
      "Cell \u001b[1;32mIn[11], line 1\u001b[0m\n\u001b[1;32m----> 1\u001b[0m factorial(\u001b[38;5;241m4\u001b[39m)\n",
      "\u001b[1;31mNameError\u001b[0m: name 'factorial' is not defined"
     ]
    }
   ],
   "source": [
    "factorial(4) # Bu çalışmadı çünkü bu fonksiyonu içeri aktarmadık."
   ]
  },
  {
   "cell_type": "code",
   "execution_count": 13,
   "id": "415b7ac0-cae5-465d-8f18-2ea349bdc5c3",
   "metadata": {},
   "outputs": [
    {
     "data": {
      "text/plain": [
       "4"
      ]
     },
     "execution_count": 13,
     "metadata": {},
     "output_type": "execute_result"
    }
   ],
   "source": [
    "floor(4.524)"
   ]
  },
  {
   "cell_type": "markdown",
   "id": "e050e44f-05ac-43c0-a8a3-1bb05bc93862",
   "metadata": {},
   "source": [
    "**Ancak bu yöntemin bir diğer sıkıntısı da şudur; modüldeki fonksiyonla aynı isimde bir fonksiyon oluşturursak Phyton o modülün fonksiyonunu kullanacaktır.**"
   ]
  },
  {
   "cell_type": "markdown",
   "id": "cd8a0eb2-2089-47ed-9576-ab57b44f63c3",
   "metadata": {},
   "source": [
    "## Kendi Modülünü Yazmak"
   ]
  },
  {
   "cell_type": "markdown",
   "id": "3e68c5bb-fb12-41d9-ae31-7abf59d7cc8e",
   "metadata": {},
   "source": [
    "    1. Herhangi bir tane klasör oluşturuyoruz.\n",
    "    2. Modülümüz ve deneme Phyton dosyamız aynı dizinde olması gerektiği için 2  tane Phyton dosyasını da b uklasör altında oluşturuyoruz.\n",
    "    3. modul1.py ve deneme.py dosyası oluşturuyoruz.\n",
    "    4. modul1.py dosyasının içine istediğimiz kadar fonksiyonu yazıyoruz.\n",
    "    5. Son olarak da deneme.py dosyasının içinde bu modul1.py modülünü kullanıyoruz.\n",
    "    "
   ]
  },
  {
   "cell_type": "markdown",
   "id": "7e267239-ec92-4670-a7c2-111c591fdf0b",
   "metadata": {},
   "source": [
    "Yazdığımız modülü her yerden kullanmak istiyorsak bu **modul1.py** dosyasını **Phyton35/Lib** klasörüne atmamız gerekiyor."
   ]
  },
  {
   "cell_type": "code",
   "execution_count": null,
   "id": "b500488d-17cb-4a9f-bd62-05c9153946b4",
   "metadata": {},
   "outputs": [],
   "source": []
  }
 ],
 "metadata": {
  "kernelspec": {
   "display_name": "Python [conda env:base] *",
   "language": "python",
   "name": "conda-base-py"
  },
  "language_info": {
   "codemirror_mode": {
    "name": "ipython",
    "version": 3
   },
   "file_extension": ".py",
   "mimetype": "text/x-python",
   "name": "python",
   "nbconvert_exporter": "python",
   "pygments_lexer": "ipython3",
   "version": "3.12.7"
  }
 },
 "nbformat": 4,
 "nbformat_minor": 5
}
