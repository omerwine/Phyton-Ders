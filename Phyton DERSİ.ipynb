{
 "cells": [
  {
   "cell_type": "markdown",
   "id": "9c4300c4-eee9-46e3-997d-8f1c0034c14a",
   "metadata": {
    "jp-MarkdownHeadingCollapsed": true
   },
   "source": [
    "# Değişkenler ve Değerler"
   ]
  },
  {
   "cell_type": "code",
   "execution_count": 16,
   "id": "dbc986cd-1fac-46f1-8981-ba508261c42d",
   "metadata": {},
   "outputs": [],
   "source": [
    "# iki değişkenin değerlerini değiştirme\n",
    "a = 2\n",
    "b = 3"
   ]
  },
  {
   "cell_type": "code",
   "execution_count": 26,
   "id": "efadb008-ee24-4125-a743-a0cfdc4c8885",
   "metadata": {},
   "outputs": [],
   "source": [
    "a,b = b,a"
   ]
  },
  {
   "cell_type": "code",
   "execution_count": 28,
   "id": "d52e6819-0f61-4c74-8d62-cc7dd16093a7",
   "metadata": {},
   "outputs": [
    {
     "data": {
      "text/plain": [
       "3"
      ]
     },
     "execution_count": 28,
     "metadata": {},
     "output_type": "execute_result"
    }
   ],
   "source": [
    "a"
   ]
  },
  {
   "cell_type": "code",
   "execution_count": 30,
   "id": "eae07f62-f43d-424d-a205-531ff50c08f1",
   "metadata": {},
   "outputs": [
    {
     "data": {
      "text/plain": [
       "2"
      ]
     },
     "execution_count": 30,
     "metadata": {},
     "output_type": "execute_result"
    }
   ],
   "source": [
    "b"
   ]
  },
  {
   "cell_type": "markdown",
   "id": "8c6a7c36-734b-4fb0-a95c-0d901344b79d",
   "metadata": {},
   "source": [
    "#####"
   ]
  },
  {
   "cell_type": "markdown",
   "id": "385e6549-a192-4c0d-807f-309548970917",
   "metadata": {
    "jp-MarkdownHeadingCollapsed": true
   },
   "source": [
    "# Değişkenin değerini değiştirme ÖNEMLİ"
   ]
  },
  {
   "cell_type": "code",
   "execution_count": 76,
   "id": "f098cc5c-8223-49e0-a399-d1ba0d9dfbdd",
   "metadata": {},
   "outputs": [
    {
     "data": {
      "text/plain": [
       "4"
      ]
     },
     "execution_count": 76,
     "metadata": {},
     "output_type": "execute_result"
    }
   ],
   "source": [
    "a = 3\n",
    "a += 1  # Önemli bir gösterim.\n",
    "a"
   ]
  },
  {
   "cell_type": "markdown",
   "id": "fe7fc2bf-50e1-4b11-acec-b11264f18454",
   "metadata": {},
   "source": [
    "#####"
   ]
  },
  {
   "cell_type": "code",
   "execution_count": 62,
   "id": "51ef5dfe-e3f6-462b-ba4a-c72e5119dde7",
   "metadata": {},
   "outputs": [
    {
     "data": {
      "text/plain": [
       "104"
      ]
     },
     "execution_count": 62,
     "metadata": {},
     "output_type": "execute_result"
    }
   ],
   "source": [
    "# Tam sayı Bölmesi Operatörü //\n",
    "523 // 5"
   ]
  },
  {
   "cell_type": "code",
   "execution_count": 64,
   "id": "91c866aa-bb3b-488a-8480-64edb320e72b",
   "metadata": {},
   "outputs": [
    {
     "data": {
      "text/plain": [
       "1"
      ]
     },
     "execution_count": 64,
     "metadata": {},
     "output_type": "execute_result"
    }
   ],
   "source": [
    "# Kalanı Bulma Operatörü %\n",
    "247 % 2"
   ]
  },
  {
   "cell_type": "code",
   "execution_count": 66,
   "id": "20c2fba1-8ebe-49fc-8131-244ee261c161",
   "metadata": {},
   "outputs": [
    {
     "data": {
      "text/plain": [
       "1024"
      ]
     },
     "execution_count": 66,
     "metadata": {},
     "output_type": "execute_result"
    }
   ],
   "source": [
    "# Üs Bulma Operatörü **\n",
    "2 ** 10"
   ]
  },
  {
   "cell_type": "markdown",
   "id": "8fc3ad10-b83f-42a7-b47b-5eb19835048d",
   "metadata": {},
   "source": [
    "#####"
   ]
  },
  {
   "cell_type": "markdown",
   "id": "dacdb504-1ed0-480e-9a67-b125bf90e64b",
   "metadata": {
    "jp-MarkdownHeadingCollapsed": true
   },
   "source": [
    "# String İndiksleme ve Parçalama"
   ]
  },
  {
   "cell_type": "code",
   "execution_count": 84,
   "id": "2e597b67-dd7b-4c54-a48f-a767d78eb35e",
   "metadata": {},
   "outputs": [
    {
     "data": {
      "text/plain": [
       "'A'"
      ]
     },
     "execution_count": 84,
     "metadata": {},
     "output_type": "execute_result"
    }
   ],
   "source": [
    "i = \"Aşk-ı Memnu\"\n",
    "i[0]"
   ]
  },
  {
   "cell_type": "code",
   "execution_count": 88,
   "id": "2f7165b0-e335-40e3-bbe5-d18ae70a7d97",
   "metadata": {},
   "outputs": [
    {
     "data": {
      "text/plain": [
       "'k'"
      ]
     },
     "execution_count": 88,
     "metadata": {},
     "output_type": "execute_result"
    }
   ],
   "source": [
    "i[2]"
   ]
  },
  {
   "cell_type": "code",
   "execution_count": 102,
   "id": "69daf4de-c0a4-4c4d-b197-587bd7b98a9b",
   "metadata": {},
   "outputs": [
    {
     "data": {
      "text/plain": [
       "'şk-ı Memn'"
      ]
     },
     "execution_count": 102,
     "metadata": {},
     "output_type": "execute_result"
    }
   ],
   "source": [
    "# Parçalama\n",
    "i[1:10:1]  # >> i[başlama index:bitiş index:atlama değeri]"
   ]
  },
  {
   "cell_type": "code",
   "execution_count": 104,
   "id": "5d9832f5-481b-477a-a4fd-0f17a07d4f74",
   "metadata": {},
   "outputs": [
    {
     "data": {
      "text/plain": [
       "'Aşk-ı Memnu'"
      ]
     },
     "execution_count": 104,
     "metadata": {},
     "output_type": "execute_result"
    }
   ],
   "source": [
    "i[::1]"
   ]
  },
  {
   "cell_type": "code",
   "execution_count": 106,
   "id": "0794649e-c7fc-4c22-9cda-c307c47b063c",
   "metadata": {},
   "outputs": [
    {
     "data": {
      "text/plain": [
       "'unmeM ı-kşA'"
      ]
     },
     "execution_count": 106,
     "metadata": {},
     "output_type": "execute_result"
    }
   ],
   "source": [
    "i[::-1]"
   ]
  },
  {
   "cell_type": "markdown",
   "id": "d6ef6864-6c6f-429e-b2f1-33ef2f287ceb",
   "metadata": {},
   "source": [
    "######"
   ]
  },
  {
   "cell_type": "markdown",
   "id": "a45d8761-beb0-443c-9ac7-e57ef7b38b64",
   "metadata": {
    "jp-MarkdownHeadingCollapsed": true
   },
   "source": [
    "# String Özellikleri"
   ]
  },
  {
   "cell_type": "code",
   "execution_count": 112,
   "id": "285708b2-b5a2-4b1a-86cf-0d21f0dcb6da",
   "metadata": {},
   "outputs": [
    {
     "data": {
      "text/plain": [
       "11"
      ]
     },
     "execution_count": 112,
     "metadata": {},
     "output_type": "execute_result"
    }
   ],
   "source": [
    "# Lenght [len(x)]\n",
    "len(i)  # >>Aşk-ı Memnu string'inin uzunluğunu bulduk."
   ]
  },
  {
   "cell_type": "code",
   "execution_count": 118,
   "id": "4212d6af-a7cf-438f-9a9c-2d97a10e1d89",
   "metadata": {},
   "outputs": [
    {
     "data": {
      "text/plain": [
       "'Çoban Yıldızı Aşk-ı Memnu'"
      ]
     },
     "execution_count": 118,
     "metadata": {},
     "output_type": "execute_result"
    }
   ],
   "source": [
    "# Stringlerin sayılar gibi toplanabilme özelliği\n",
    "a = \"Çoban Yıldızı\"\n",
    "b = \" \"\n",
    "a + b + i"
   ]
  },
  {
   "cell_type": "markdown",
   "id": "b6e8d466-28dd-413a-a743-9a23cc9ba5e0",
   "metadata": {
    "jp-MarkdownHeadingCollapsed": true
   },
   "source": [
    "## Veri Tipi Dönüşümleri"
   ]
  },
  {
   "cell_type": "code",
   "execution_count": 124,
   "id": "ae6f080a-155e-4f9d-941f-3487ccc9c3ac",
   "metadata": {},
   "outputs": [
    {
     "data": {
      "text/plain": [
       "43.0"
      ]
     },
     "execution_count": 124,
     "metadata": {},
     "output_type": "execute_result"
    }
   ],
   "source": [
    "# Tam sayıyı ondalıklı sayı yapmak. [float(x)]   NOT : Stringler de tam sayıya dönüşebilir\n",
    "a = 43\n",
    "float(a)"
   ]
  },
  {
   "cell_type": "code",
   "execution_count": 126,
   "id": "8d2c2330-64ee-4ad5-8328-e07ed09b5cdf",
   "metadata": {},
   "outputs": [
    {
     "data": {
      "text/plain": [
       "3"
      ]
     },
     "execution_count": 126,
     "metadata": {},
     "output_type": "execute_result"
    }
   ],
   "source": [
    "# Ondalıklı sayıyı tam sayı yapmak. [int(x)]   NOT : Stringler de ondalıklı sayıya dönüşebilir\n",
    "b = 3.14\n",
    "int(b)"
   ]
  },
  {
   "cell_type": "code",
   "execution_count": 130,
   "id": "0182fabd-149b-4397-81ed-330be3ffbca8",
   "metadata": {},
   "outputs": [
    {
     "data": {
      "text/plain": [
       "'52'"
      ]
     },
     "execution_count": 130,
     "metadata": {},
     "output_type": "execute_result"
    }
   ],
   "source": [
    "# Sayıları String yapmak. [str(x)]\n",
    "k = 52\n",
    "l = str(k)\n",
    "l"
   ]
  },
  {
   "cell_type": "markdown",
   "id": "080b5aa8-4dc4-4439-add2-ec10514bc2d0",
   "metadata": {},
   "source": [
    "######"
   ]
  },
  {
   "cell_type": "markdown",
   "id": "400ac18d-98d2-48e1-93a8-74cc6adaa5f8",
   "metadata": {
    "jp-MarkdownHeadingCollapsed": true
   },
   "source": [
    "# Print Fonksiyonu [print(x)]"
   ]
  },
  {
   "cell_type": "code",
   "execution_count": 136,
   "id": "ff17ac5c-9a64-4882-9ad9-ade481853068",
   "metadata": {},
   "outputs": [
    {
     "name": "stdout",
     "output_type": "stream",
     "text": [
      "Hello World\n"
     ]
    }
   ],
   "source": [
    "print(\"Hello World\")"
   ]
  },
  {
   "cell_type": "code",
   "execution_count": 142,
   "id": "ec28aea7-25f2-4650-9f30-a986bbeb8063",
   "metadata": {},
   "outputs": [
    {
     "name": "stdout",
     "output_type": "stream",
     "text": [
      "13\n"
     ]
    }
   ],
   "source": [
    "print(13)"
   ]
  },
  {
   "cell_type": "markdown",
   "id": "5d268c69-16ee-451d-a2c2-67efed84c413",
   "metadata": {
    "jp-MarkdownHeadingCollapsed": true
   },
   "source": [
    "# Stringlerde Özel Karakterler > \\t ve \\n "
   ]
  },
  {
   "cell_type": "code",
   "execution_count": 148,
   "id": "176cd104-2ee2-4596-a76f-11d8e0084f02",
   "metadata": {},
   "outputs": [
    {
     "name": "stdout",
     "output_type": "stream",
     "text": [
      "Ömer\n",
      "ve\n",
      "Naz\n"
     ]
    }
   ],
   "source": [
    "print(\"Ömer\\nve\\nNaz\")"
   ]
  },
  {
   "cell_type": "code",
   "execution_count": 150,
   "id": "55a4d37d-3c2e-4dba-b853-ca0ec1a2a3b1",
   "metadata": {},
   "outputs": [
    {
     "name": "stdout",
     "output_type": "stream",
     "text": [
      "Ocak\tŞubat\tMart\n"
     ]
    }
   ],
   "source": [
    "print(\"Ocak\\tŞubat\\tMart\")"
   ]
  },
  {
   "cell_type": "markdown",
   "id": "a70ff474-7fc4-48d2-b74a-09931f9cd6fd",
   "metadata": {},
   "source": [
    "#####"
   ]
  },
  {
   "cell_type": "markdown",
   "id": "b1a19651-0a8b-4baf-b86a-82104e74157a",
   "metadata": {
    "jp-MarkdownHeadingCollapsed": true
   },
   "source": [
    "# Type(x) Fonksiyonu >> Verinin tipini öğrenmek için kullanılır."
   ]
  },
  {
   "cell_type": "code",
   "execution_count": 156,
   "id": "dd086f5f-d4e5-420b-9c55-66a89339ea36",
   "metadata": {},
   "outputs": [
    {
     "data": {
      "text/plain": [
       "float"
      ]
     },
     "execution_count": 156,
     "metadata": {},
     "output_type": "execute_result"
    }
   ],
   "source": [
    "type(34.2)"
   ]
  },
  {
   "cell_type": "code",
   "execution_count": 158,
   "id": "21dd2764-ebfe-4dcb-8200-d513e6554e21",
   "metadata": {},
   "outputs": [
    {
     "data": {
      "text/plain": [
       "str"
      ]
     },
     "execution_count": 158,
     "metadata": {},
     "output_type": "execute_result"
    }
   ],
   "source": [
    "type(\"hello\")"
   ]
  },
  {
   "cell_type": "code",
   "execution_count": 164,
   "id": "0f6afde3-12c8-4e52-a0c4-35fda1ea9bd4",
   "metadata": {},
   "outputs": [
    {
     "name": "stdout",
     "output_type": "stream",
     "text": [
      "1/2/3\n"
     ]
    }
   ],
   "source": [
    "# sep Parametresi (Sıralı değerleri istediğiniz işaretle ayırmanızı sağlar.)\n",
    "print(1,2,3,sep = \"/\")"
   ]
  },
  {
   "cell_type": "code",
   "execution_count": 166,
   "id": "6b73dd81-79d3-44aa-a9fe-7b825458c10e",
   "metadata": {},
   "outputs": [
    {
     "name": "stdout",
     "output_type": "stream",
     "text": [
      "ö m e r\n"
     ]
    }
   ],
   "source": [
    "# Yıldızlı Parametreler (Stringlerin her harfini boşluklu şekilde yazar.)\n",
    "print(*\"ömer\")"
   ]
  },
  {
   "cell_type": "code",
   "execution_count": 168,
   "id": "53d50462-f20e-442e-8669-5c845f974916",
   "metadata": {},
   "outputs": [
    {
     "name": "stdout",
     "output_type": "stream",
     "text": [
      "T.B.M.M\n"
     ]
    }
   ],
   "source": [
    "print(*\"TBMM\",sep = \".\")"
   ]
  },
  {
   "cell_type": "markdown",
   "id": "eb7f3d09-3fd5-43e5-8079-2cccc5c80477",
   "metadata": {
    "jp-MarkdownHeadingCollapsed": true
   },
   "source": [
    "# FORMATLAMA Fonksiyonu"
   ]
  },
  {
   "cell_type": "code",
   "execution_count": 172,
   "id": "7796fde1-06b4-4a18-a8e0-95e3b4a71f96",
   "metadata": {},
   "outputs": [
    {
     "data": {
      "text/plain": [
       "'13 46 87'"
      ]
     },
     "execution_count": 172,
     "metadata": {},
     "output_type": "execute_result"
    }
   ],
   "source": [
    "\"{} {} {}\".format(13,46,87)"
   ]
  },
  {
   "cell_type": "code",
   "execution_count": 189,
   "id": "cb8409e2-2896-4ec3-a2eb-d44bd16b8bc8",
   "metadata": {},
   "outputs": [],
   "source": [
    "a = 12\n",
    "b = 21"
   ]
  },
  {
   "cell_type": "code",
   "execution_count": 181,
   "id": "c04221b8-62c2-420e-9281-1a77fae1a759",
   "metadata": {},
   "outputs": [
    {
     "name": "stdout",
     "output_type": "stream",
     "text": [
      "12 ile 21'nin toplamı 33'dir\n"
     ]
    }
   ],
   "source": [
    "print(\"{} ile {}'nin toplamı {}'dir\".format(a,b,a+b))"
   ]
  },
  {
   "cell_type": "code",
   "execution_count": 185,
   "id": "89eba223-b770-44d8-9be8-50d6c6e33cc5",
   "metadata": {},
   "outputs": [
    {
     "data": {
      "text/plain": [
       "'benim aslan oğlum'"
      ]
     },
     "execution_count": 185,
     "metadata": {},
     "output_type": "execute_result"
    }
   ],
   "source": [
    "# Formatların içine sayı yazarsak yazdığımız sayının sırasındaki değeri alır.\n",
    "\"{2} {0} {1}\".format(\"aslan\",\"oğlum\",\"benim\")  #>> ilk değer daima 0'dır."
   ]
  },
  {
   "cell_type": "code",
   "execution_count": 187,
   "id": "0501d1f1-42e9-4701-a3e5-089e98b3af9e",
   "metadata": {},
   "outputs": [
    {
     "data": {
      "text/plain": [
       "'3.13 7.533 24.8654'"
      ]
     },
     "execution_count": 187,
     "metadata": {},
     "output_type": "execute_result"
    }
   ],
   "source": [
    "# Ondalıklı sayıların ondalıklı basamaklarının istediğimiz kadarını almak için de formatları kullanabiliriz. Ayrıca yuvarlama yapabiliyor.\n",
    "# {:.□f} şeklinde\n",
    "\"{:.2f} {:.3f} {:.4f}\".format(3.12578,7.53278,24.8654328)"
   ]
  },
  {
   "cell_type": "markdown",
   "id": "86e7f9c1-1e0f-4649-8a1d-2aa2dd5de46c",
   "metadata": {},
   "source": [
    "#####"
   ]
  },
  {
   "cell_type": "markdown",
   "id": "6ac1ae92-e2fd-4827-a532-4267a1846fa1",
   "metadata": {
    "jp-MarkdownHeadingCollapsed": true
   },
   "source": [
    "# Listeler"
   ]
  },
  {
   "cell_type": "code",
   "execution_count": 207,
   "id": "3a9acd88-ae02-4de9-aa61-6c9208bc3186",
   "metadata": {},
   "outputs": [],
   "source": [
    "# Listeler köşeli parantez ( [] ) ile oluşturulabilir.\n",
    "a = [\"merhaba\",35,74.2]"
   ]
  },
  {
   "cell_type": "code",
   "execution_count": 209,
   "id": "bd970f9e-5bf7-4ec9-8a78-e370ccf2ccad",
   "metadata": {},
   "outputs": [
    {
     "data": {
      "text/plain": [
       "['merhaba', 35, 74.2]"
      ]
     },
     "execution_count": 209,
     "metadata": {},
     "output_type": "execute_result"
    }
   ],
   "source": [
    "list(a)"
   ]
  },
  {
   "cell_type": "code",
   "execution_count": 211,
   "id": "16fdb315-817e-4299-bd86-4ea17f9e4905",
   "metadata": {},
   "outputs": [
    {
     "data": {
      "text/plain": [
       "3"
      ]
     },
     "execution_count": 211,
     "metadata": {},
     "output_type": "execute_result"
    }
   ],
   "source": [
    "len(list(a)) # Listedeki eleman sayılarını len() ile bulabiliriz."
   ]
  },
  {
   "cell_type": "code",
   "execution_count": 217,
   "id": "32e825ae-fc76-41c3-aee8-56e2677b4add",
   "metadata": {},
   "outputs": [
    {
     "data": {
      "text/plain": [
       "['Ö', 'm', 'e', 'r']"
      ]
     },
     "execution_count": 217,
     "metadata": {},
     "output_type": "execute_result"
    }
   ],
   "source": [
    "# Bir stringi listeye dönüştürebiliriz.\n",
    "a = \"Ömer\"\n",
    "b = list(a)\n",
    "b"
   ]
  },
  {
   "cell_type": "code",
   "execution_count": 219,
   "id": "b0dcc9a0-35f7-492d-b604-c4f7a215123a",
   "metadata": {},
   "outputs": [
    {
     "data": {
      "text/plain": [
       "4"
      ]
     },
     "execution_count": 219,
     "metadata": {},
     "output_type": "execute_result"
    }
   ],
   "source": [
    "len(b)"
   ]
  },
  {
   "cell_type": "markdown",
   "id": "e665c6c2-6fbf-48dd-be57-0c41a74a3229",
   "metadata": {},
   "source": [
    "#####"
   ]
  },
  {
   "cell_type": "markdown",
   "id": "b3d7bf70-4811-4e21-9fbd-ec1bb9b096d6",
   "metadata": {
    "jp-MarkdownHeadingCollapsed": true
   },
   "source": [
    "# Listeleri İndeksleme ve Parçalama"
   ]
  },
  {
   "cell_type": "code",
   "execution_count": 229,
   "id": "d21bdd34-b2b1-4bf2-b677-2fd3b5e09d1b",
   "metadata": {},
   "outputs": [],
   "source": [
    "liste = [1,2,3,\"a\",\"b\",\"c\"]"
   ]
  },
  {
   "cell_type": "code",
   "execution_count": 235,
   "id": "b7bd7a1e-5279-41fc-8bf0-19078b00a4ca",
   "metadata": {},
   "outputs": [
    {
     "data": {
      "text/plain": [
       "'a'"
      ]
     },
     "execution_count": 235,
     "metadata": {},
     "output_type": "execute_result"
    }
   ],
   "source": [
    "liste[3]"
   ]
  },
  {
   "cell_type": "code",
   "execution_count": 239,
   "id": "afc1e18d-3c31-4001-b022-4afd1629cd84",
   "metadata": {},
   "outputs": [
    {
     "data": {
      "text/plain": [
       "[3, 'a', 'b', 'c']"
      ]
     },
     "execution_count": 239,
     "metadata": {},
     "output_type": "execute_result"
    }
   ],
   "source": [
    "liste[2::]  # Parçalama"
   ]
  },
  {
   "cell_type": "code",
   "execution_count": 241,
   "id": "c2c606ca-f866-485e-a67d-f9355100adbb",
   "metadata": {},
   "outputs": [
    {
     "data": {
      "text/plain": [
       "['c', 'b', 'a', 3, 2, 1]"
      ]
     },
     "execution_count": 241,
     "metadata": {},
     "output_type": "execute_result"
    }
   ],
   "source": [
    "liste[::-1]"
   ]
  },
  {
   "cell_type": "markdown",
   "id": "a60de980-02dd-4d22-a8e6-ddaa5222b9b1",
   "metadata": {
    "jp-MarkdownHeadingCollapsed": true
   },
   "source": [
    "# Temel Liste Metodları ve İşlemleri"
   ]
  },
  {
   "cell_type": "code",
   "execution_count": 264,
   "id": "f17580c1-aa77-4375-b9f7-ed0c1ce94da9",
   "metadata": {
    "jupyter": {
     "source_hidden": true
    }
   },
   "outputs": [
    {
     "data": {
      "text/plain": [
       "[3, 5, 7, 2, 4, 6]"
      ]
     },
     "execution_count": 264,
     "metadata": {},
     "output_type": "execute_result"
    }
   ],
   "source": [
    "# Listelerde işlem yapılabilir.\n",
    "liste1 = [3,5,7]\n",
    "liste2 = [2,4,6]\n",
    "liste3 = liste1 + liste2\n",
    "liste3"
   ]
  },
  {
   "cell_type": "code",
   "execution_count": 268,
   "id": "a10ac029-ff57-43cf-8f0e-58ab1247c87c",
   "metadata": {},
   "outputs": [
    {
     "data": {
      "text/plain": [
       "[1, 5, 7]"
      ]
     },
     "execution_count": 268,
     "metadata": {},
     "output_type": "execute_result"
    }
   ],
   "source": [
    "# Listeler yeni değerlerle güncellenebilir.\n",
    "liste1[0] = 1\n",
    "liste1"
   ]
  },
  {
   "cell_type": "code",
   "execution_count": 321,
   "id": "7f67f1d6-c75d-4926-99da-bfb938afb976",
   "metadata": {},
   "outputs": [
    {
     "data": {
      "text/plain": [
       "[11, 13, 7]"
      ]
     },
     "execution_count": 321,
     "metadata": {},
     "output_type": "execute_result"
    }
   ],
   "source": [
    "liste1[:2] = [11,13]  # Listeler parçalama yöntemi ile de güncellenebilir.\n",
    "liste1"
   ]
  },
  {
   "cell_type": "markdown",
   "id": "a2b4a306-aa29-4cc8-a03e-836d750f665c",
   "metadata": {
    "jp-MarkdownHeadingCollapsed": true
   },
   "source": [
    "#### Liste Metodları"
   ]
  },
  {
   "cell_type": "markdown",
   "id": "dc030770-1a47-4652-bcb9-62231eca2368",
   "metadata": {},
   "source": [
    "Liste metodlarına ulaşmak için liste adının yanına nokta koyup TAB'a basabiliriz."
   ]
  },
  {
   "cell_type": "markdown",
   "id": "3ccb10b5-6214-4a14-982d-0507e9bd4a6f",
   "metadata": {},
   "source": [
    "##### append Metodu"
   ]
  },
  {
   "cell_type": "markdown",
   "id": "2e7b55d0-a9e2-45a0-a34e-67b8d2f559db",
   "metadata": {},
   "source": [
    "Verdiğimiz değeri listeye eklemeye yarar."
   ]
  },
  {
   "cell_type": "code",
   "execution_count": 327,
   "id": "b7b404a6-7da4-4a8c-9498-0353df821bdc",
   "metadata": {},
   "outputs": [
    {
     "data": {
      "text/plain": [
       "[1, 2, 3, 4, 5, 6]"
      ]
     },
     "execution_count": 327,
     "metadata": {},
     "output_type": "execute_result"
    }
   ],
   "source": [
    "liste = [1,2,3,4,5]\n",
    "liste.append(6)\n",
    "liste"
   ]
  },
  {
   "cell_type": "markdown",
   "id": "333cf0a1-a1dc-4b08-bb3f-df3deb6bddb6",
   "metadata": {
    "jp-MarkdownHeadingCollapsed": true
   },
   "source": [
    "##### pop Metodu"
   ]
  },
  {
   "cell_type": "markdown",
   "id": "3b2df28e-d92c-4036-80ed-adf17cb2e318",
   "metadata": {},
   "source": [
    "listeden değer silmemize yarar. pop() şeklinde paranteze değer vermezsek listedeki son değer siler."
   ]
  },
  {
   "cell_type": "code",
   "execution_count": 302,
   "id": "09cc0522-6d46-402f-90dc-3edc53928851",
   "metadata": {},
   "outputs": [
    {
     "data": {
      "text/plain": [
       "[1, 2, 3, 'ömer']"
      ]
     },
     "execution_count": 302,
     "metadata": {},
     "output_type": "execute_result"
    }
   ],
   "source": [
    "liste = [1,2,3,\"ömer\",7]\n",
    "liste.pop()\n",
    "liste"
   ]
  },
  {
   "cell_type": "code",
   "execution_count": 304,
   "id": "5b507661-95a8-47f9-a496-b1b95174e3b3",
   "metadata": {},
   "outputs": [
    {
     "data": {
      "text/plain": [
       "[1, 2, 'ömer']"
      ]
     },
     "execution_count": 304,
     "metadata": {},
     "output_type": "execute_result"
    }
   ],
   "source": [
    "liste.pop(2)\n",
    "liste"
   ]
  },
  {
   "cell_type": "markdown",
   "id": "93c8b585-7f90-4d5a-b9a1-aeaa115de477",
   "metadata": {
    "jp-MarkdownHeadingCollapsed": true
   },
   "source": [
    "##### sort Metodu"
   ]
  },
  {
   "cell_type": "markdown",
   "id": "01310c85-6884-4b68-b5fe-72ab7c0761e5",
   "metadata": {},
   "source": [
    "Listemizin değerlerini belli bir kuralara göre sıralar."
   ]
  },
  {
   "cell_type": "code",
   "execution_count": 311,
   "id": "4211ee33-8871-42e2-a0b4-7b8fe9cd73bf",
   "metadata": {},
   "outputs": [
    {
     "data": {
      "text/plain": [
       "[0, 1, 3, 8, 23, 54, 87, 100]"
      ]
     },
     "execution_count": 311,
     "metadata": {},
     "output_type": "execute_result"
    }
   ],
   "source": [
    "liste = [1,3,8,23,87,100,0,54]\n",
    "liste.sort()\n",
    "liste"
   ]
  },
  {
   "cell_type": "code",
   "execution_count": 319,
   "id": "83041eb7-7573-4c0f-a0fa-3f4309659b3c",
   "metadata": {},
   "outputs": [
    {
     "data": {
      "text/plain": [
       "[100, 87, 54, 23, 8, 3, 1, 0]"
      ]
     },
     "execution_count": 319,
     "metadata": {},
     "output_type": "execute_result"
    }
   ],
   "source": [
    "liste.sort(reverse = True)  # >> Bu işlem listeyi büyükten küçüğe doğru sıraladı.\n",
    "liste"
   ]
  },
  {
   "cell_type": "code",
   "execution_count": 325,
   "id": "2f5dd489-0331-4add-a425-b6990f4c720e",
   "metadata": {},
   "outputs": [
    {
     "data": {
      "text/plain": [
       "['Ananas', 'Armut', 'Bingo', 'Kestane', 'Ömer']"
      ]
     },
     "execution_count": 325,
     "metadata": {},
     "output_type": "execute_result"
    }
   ],
   "source": [
    "liste = [\"Armut\",\"Ömer\",\"Ananas\",\"Kestane\",\"Bingo\"]\n",
    "liste.sort() # >>Stringleri aflbaetik sıraya göre dizer.\n",
    "liste"
   ]
  },
  {
   "cell_type": "markdown",
   "id": "b318f096-aaac-4c94-a2ac-86555049418a",
   "metadata": {
    "jp-MarkdownHeadingCollapsed": true
   },
   "source": [
    "##### İç İçe Listeler"
   ]
  },
  {
   "cell_type": "markdown",
   "id": "fb9ce8b7-ff4e-49b2-912f-d2d1692dafd2",
   "metadata": {},
   "source": [
    "Listelerin içine farklı listeleri koyabiliriz. Bileşik Fonksiyon misali."
   ]
  },
  {
   "cell_type": "code",
   "execution_count": 333,
   "id": "d3eb9b9d-cf4b-45a3-89fc-374c45879ba0",
   "metadata": {},
   "outputs": [
    {
     "data": {
      "text/plain": [
       "[[3, 5], [7, 8], ['Ömer', 'Naz']]"
      ]
     },
     "execution_count": 333,
     "metadata": {},
     "output_type": "execute_result"
    }
   ],
   "source": [
    "liste = [[3,5],[7,8],[\"Ömer\",\"Naz\"]]\n",
    "liste"
   ]
  },
  {
   "cell_type": "code",
   "execution_count": 335,
   "id": "4205c9f3-d0b0-4d35-9561-a8748bffee7f",
   "metadata": {},
   "outputs": [
    {
     "data": {
      "text/plain": [
       "8"
      ]
     },
     "execution_count": 335,
     "metadata": {},
     "output_type": "execute_result"
    }
   ],
   "source": [
    "# Listenin içindeki bir listenin indeksine ulaşmak:\n",
    "liste[1][1]"
   ]
  },
  {
   "cell_type": "markdown",
   "id": "0d706890-0a0e-4763-9cdc-43eb870a11d4",
   "metadata": {
    "jp-MarkdownHeadingCollapsed": true
   },
   "source": [
    "# Demetler (Tuplelar)"
   ]
  },
  {
   "cell_type": "markdown",
   "id": "6d3d5030-0119-4fdd-abc6-ea851e86475e",
   "metadata": {},
   "source": [
    "Tuplelar listelere benzer. Ancak listelerden farkları değiştirilemez oluşlarıdır.\n",
    "Değişmesini istemediğimiz değerleri tupleların içine koyabiliriz."
   ]
  },
  {
   "cell_type": "code",
   "execution_count": 344,
   "id": "b2cae0e5-ed72-4509-85b3-c8f44b44e30b",
   "metadata": {},
   "outputs": [
    {
     "data": {
      "text/plain": [
       "tuple"
      ]
     },
     "execution_count": 344,
     "metadata": {},
     "output_type": "execute_result"
    }
   ],
   "source": [
    "# Demetler açık parantez ile kullanılır ()\n",
    "demet = (1,2,3,4,5)\n",
    "type(demet)"
   ]
  },
  {
   "cell_type": "code",
   "execution_count": 348,
   "id": "d0fcd2c5-d6b7-4fc1-914a-9266f87ad008",
   "metadata": {},
   "outputs": [
    {
     "data": {
      "text/plain": [
       "1"
      ]
     },
     "execution_count": 348,
     "metadata": {},
     "output_type": "execute_result"
    }
   ],
   "source": [
    "# Demetin indekslerine ulaşabiliriz.\n",
    "demet[0]"
   ]
  },
  {
   "cell_type": "code",
   "execution_count": 350,
   "id": "e6e3f094-fe91-4f45-9bbd-5bdaa9bb7a0c",
   "metadata": {},
   "outputs": [
    {
     "data": {
      "text/plain": [
       "(2, 3, 4)"
      ]
     },
     "execution_count": 350,
     "metadata": {},
     "output_type": "execute_result"
    }
   ],
   "source": [
    "# Demeti parçalayabiliriz\n",
    "demet[1:4]"
   ]
  },
  {
   "cell_type": "markdown",
   "id": "fe014afd-86d8-436b-8d3b-e3b93981433f",
   "metadata": {},
   "source": [
    "### Demetlerin Temel Metodları"
   ]
  },
  {
   "cell_type": "markdown",
   "id": "abdedfb6-aeaa-40f9-8811-64a9ffcc4ec1",
   "metadata": {},
   "source": [
    "**COUNT** metodu ile bir değerin demetin içinde ne kadar tekrar ettiğini görebiliriz."
   ]
  },
  {
   "cell_type": "code",
   "execution_count": 357,
   "id": "aed6e27f-972f-4fa7-be00-3e9d84187d7a",
   "metadata": {},
   "outputs": [
    {
     "data": {
      "text/plain": [
       "3"
      ]
     },
     "execution_count": 357,
     "metadata": {},
     "output_type": "execute_result"
    }
   ],
   "source": [
    "demet = (1,2,5,5,5,2,3,3,3,6,8,8,8,7,6,5,5,0,9,8,1,1,2,3,5,7,5,9,2)\n",
    "demet.count(1)"
   ]
  },
  {
   "cell_type": "markdown",
   "id": "e33f1b5d-b542-439f-b4ec-df3d1ed8c035",
   "metadata": {},
   "source": [
    "**INDEX** metodu ile demetin içindeki indeksin kaçıncı sırada olduğunu öğrenebiliriz."
   ]
  },
  {
   "cell_type": "code",
   "execution_count": 366,
   "id": "031b9308-1ebe-470c-bb14-3187e8f9ec1c",
   "metadata": {},
   "outputs": [
    {
     "data": {
      "text/plain": [
       "5"
      ]
     },
     "execution_count": 366,
     "metadata": {},
     "output_type": "execute_result"
    }
   ],
   "source": [
    "demet = (1,2,6,345,128,\"Ömer\",13,\"Naz\")\n",
    "demet.index(\"Ömer\")"
   ]
  },
  {
   "cell_type": "markdown",
   "id": "327fb1c8-9808-441f-8a09-64cb62176876",
   "metadata": {
    "jp-MarkdownHeadingCollapsed": true
   },
   "source": [
    "### Değiştirilememe Özelliği"
   ]
  },
  {
   "cell_type": "markdown",
   "id": "758003ae-ee44-4bea-ad3a-74b92b389a9b",
   "metadata": {},
   "source": [
    "Demetler değiştirilemez. İçine yeni bir değer eklenemez veya değer çıkartılamaz."
   ]
  },
  {
   "cell_type": "code",
   "execution_count": 373,
   "id": "bcb5a7e1-c7ca-4d13-a5f8-f01d65deb244",
   "metadata": {},
   "outputs": [
    {
     "ename": "TypeError",
     "evalue": "'tuple' object does not support item assignment",
     "output_type": "error",
     "traceback": [
      "\u001b[1;31m---------------------------------------------------------------------------\u001b[0m",
      "\u001b[1;31mTypeError\u001b[0m                                 Traceback (most recent call last)",
      "Cell \u001b[1;32mIn[373], line 2\u001b[0m\n\u001b[0;32m      1\u001b[0m demet \u001b[38;5;241m=\u001b[39m (\u001b[38;5;241m1\u001b[39m,\u001b[38;5;241m2\u001b[39m,\u001b[38;5;241m3\u001b[39m,\u001b[38;5;241m4\u001b[39m,\u001b[38;5;241m5\u001b[39m)\n\u001b[1;32m----> 2\u001b[0m demet[\u001b[38;5;241m2\u001b[39m] \u001b[38;5;241m=\u001b[39m \u001b[38;5;241m6\u001b[39m\n",
      "\u001b[1;31mTypeError\u001b[0m: 'tuple' object does not support item assignment"
     ]
    }
   ],
   "source": [
    "demet = (1,2,3,4,5)\n",
    "demet[2] = 6"
   ]
  },
  {
   "cell_type": "markdown",
   "id": "363fcf1f-691b-4ca7-bbaf-2b6df129ce57",
   "metadata": {
    "jp-MarkdownHeadingCollapsed": true
   },
   "source": [
    "# Sözlükler (Dictionary)"
   ]
  },
  {
   "cell_type": "markdown",
   "id": "fed1ac7a-4548-4731-b335-9a50cd6bc3f4",
   "metadata": {},
   "source": [
    "Sözlükler gerçek hayattaki gibi bir **key**'e karşılık gelen **value**'yi bulmamızı sağlar.\n",
    "Örneğin oluşturduğumuz bir sözlükte *freedom* **key**'inin neye karşılık geldiğine baktığımızda bize *özgürlük* **value**'sunu verecektir."
   ]
  },
  {
   "cell_type": "markdown",
   "id": "fc1cda07-204e-49aa-a774-393034ab530a",
   "metadata": {},
   "source": [
    "### Sözlük Oluşturmak"
   ]
  },
  {
   "cell_type": "markdown",
   "id": "7fb64c6e-0131-4a22-addc-c76d9bdd55be",
   "metadata": {},
   "source": [
    "Sözlükler yay ayraç { } içinde veya dict() komudu ile kullanılır. ve key:value şeklinde yazılırlar."
   ]
  },
  {
   "cell_type": "code",
   "execution_count": 386,
   "id": "32511d48-a5e5-488c-8fee-f02033dc4ace",
   "metadata": {},
   "outputs": [
    {
     "data": {
      "text/plain": [
       "dict"
      ]
     },
     "execution_count": 386,
     "metadata": {},
     "output_type": "execute_result"
    }
   ],
   "source": [
    "sözlük1 = {1:\"bir\",2:\"iki\",3:\"üç\",4:\"dört\"}\n",
    "type(sözlük1)"
   ]
  },
  {
   "cell_type": "code",
   "execution_count": 401,
   "id": "857366fb-7e49-43da-8e02-3f5f084ea646",
   "metadata": {},
   "outputs": [
    {
     "data": {
      "text/plain": [
       "'üç'"
      ]
     },
     "execution_count": 401,
     "metadata": {},
     "output_type": "execute_result"
    }
   ],
   "source": [
    "# [] içerisine key yazıyoruz ve bize value veriyor.\n",
    "sözlük1[3]"
   ]
  },
  {
   "cell_type": "code",
   "execution_count": 407,
   "id": "ff0281ea-b65d-400c-a341-63fda758ccc5",
   "metadata": {},
   "outputs": [
    {
     "data": {
      "text/plain": [
       "{1: 'bir', 2: 'iki', 3: 'üç', 4: 'dört', 5: 'beş'}"
      ]
     },
     "execution_count": 407,
     "metadata": {},
     "output_type": "execute_result"
    }
   ],
   "source": [
    "# Sözlüğe yeni bir eleman ekleyebiliriz.\n",
    "sözlük1[5] = \"beş\"\n",
    "sözlük1"
   ]
  },
  {
   "cell_type": "code",
   "execution_count": 409,
   "id": "c30ce176-dd0a-42fa-aeae-aa34cb2f5597",
   "metadata": {},
   "outputs": [
    {
     "data": {
      "text/plain": [
       "{1: 'bir', 2: 'iki', 3: 'yedi', 4: 'dört', 5: 'beş'}"
      ]
     },
     "execution_count": 409,
     "metadata": {},
     "output_type": "execute_result"
    }
   ],
   "source": [
    "# Sözlükteki elemanı değiştirebiliriz.\n",
    "sözlük1[3] = \"yedi\"\n",
    "sözlük1"
   ]
  },
  {
   "cell_type": "code",
   "execution_count": 417,
   "id": "9b32dd48-da99-491c-add9-cb6c1e1723e6",
   "metadata": {},
   "outputs": [],
   "source": [
    "# Sözlük içine sözlük ekleyebiliriz.\n",
    "a = {\"meyveler\":{\"elma\":\"apple\",\"muz\":\"banana\"},\"rakamlar\":{\"bir\":\"one\",\"iki\":\"two\"}}"
   ]
  },
  {
   "cell_type": "code",
   "execution_count": 433,
   "id": "2529c49d-53d9-4695-9c5b-73c03166a530",
   "metadata": {},
   "outputs": [
    {
     "data": {
      "text/plain": [
       "'apple'"
      ]
     },
     "execution_count": 433,
     "metadata": {},
     "output_type": "execute_result"
    }
   ],
   "source": [
    "a[\"meyveler\"][\"elma\"]"
   ]
  },
  {
   "cell_type": "code",
   "execution_count": 435,
   "id": "8b6d926f-b171-4ca3-8a24-7369431af9cd",
   "metadata": {},
   "outputs": [
    {
     "data": {
      "text/plain": [
       "'two'"
      ]
     },
     "execution_count": 435,
     "metadata": {},
     "output_type": "execute_result"
    }
   ],
   "source": [
    "a[\"rakamlar\"][\"iki\"]"
   ]
  },
  {
   "cell_type": "markdown",
   "id": "4908f31f-b2ba-4efd-a276-96db24a816d6",
   "metadata": {},
   "source": [
    "### Temel Sözlük Metodları"
   ]
  },
  {
   "cell_type": "markdown",
   "id": "862c5dd7-ada9-4b01-993e-368d91fb8ce8",
   "metadata": {},
   "source": [
    "**.values( )** metodu sözlükteki value'ları liste yapar."
   ]
  },
  {
   "cell_type": "code",
   "execution_count": 442,
   "id": "620afceb-081c-4542-8f06-7edd4e539db4",
   "metadata": {},
   "outputs": [
    {
     "data": {
      "text/plain": [
       "dict_values(['asd', 'fgh', 'jkl'])"
      ]
     },
     "execution_count": 442,
     "metadata": {},
     "output_type": "execute_result"
    }
   ],
   "source": [
    "k = {1:\"asd\",3:\"fgh\",5:\"jkl\"}\n",
    "k.values()"
   ]
  },
  {
   "cell_type": "markdown",
   "id": "db40c1b3-1cab-45cd-925c-9d671a008e3b",
   "metadata": {},
   "source": [
    "**.keys( )** metodu sözlükteki key'leri liste yapar."
   ]
  },
  {
   "cell_type": "code",
   "execution_count": 445,
   "id": "f2ef4df4-e66d-49f0-acfc-b711b913302b",
   "metadata": {},
   "outputs": [
    {
     "data": {
      "text/plain": [
       "dict_keys([1, 3, 5])"
      ]
     },
     "execution_count": 445,
     "metadata": {},
     "output_type": "execute_result"
    }
   ],
   "source": [
    "k = {1:\"asd\",3:\"fgh\",5:\"jkl\"}\n",
    "k.keys()"
   ]
  },
  {
   "cell_type": "markdown",
   "id": "2824073c-b87b-4032-8e37-ba91be290476",
   "metadata": {},
   "source": [
    "**.items( )** metodu sözlükteki value ve keyleri tuplelar haline liste yapar."
   ]
  },
  {
   "cell_type": "code",
   "execution_count": 448,
   "id": "25082c4a-6159-45c9-b715-7dc4d3072238",
   "metadata": {},
   "outputs": [
    {
     "data": {
      "text/plain": [
       "dict_items([(1, 'asd'), (3, 'fgh'), (5, 'jkl')])"
      ]
     },
     "execution_count": 448,
     "metadata": {},
     "output_type": "execute_result"
    }
   ],
   "source": [
    "k = {1:\"asd\",3:\"fgh\",5:\"jkl\"}\n",
    "k.items()"
   ]
  },
  {
   "cell_type": "code",
   "execution_count": 450,
   "id": "39d286fb-6fd6-4f54-8dea-6baddd972b2f",
   "metadata": {},
   "outputs": [
    {
     "name": "stdout",
     "output_type": "stream",
     "text": [
      "(1, 'asd')\n",
      "(3, 'fgh')\n",
      "(5, 'jkl')\n"
     ]
    }
   ],
   "source": [
    "# Örnek Kullanım Alanı\n",
    "for omer in k.items():\n",
    "    print(omer)"
   ]
  },
  {
   "cell_type": "markdown",
   "id": "8b5eb4ae-3e51-4f17-87ed-cfa82cc08af8",
   "metadata": {
    "jp-MarkdownHeadingCollapsed": true
   },
   "source": [
    "# Kullanıcıdan Girdi Alma - input() Fonksiyonu"
   ]
  },
  {
   "cell_type": "code",
   "execution_count": 3,
   "id": "7341d847-fdd7-444b-b724-22b98b2c6e7c",
   "metadata": {},
   "outputs": [
    {
     "name": "stdin",
     "output_type": "stream",
     "text": [
      "Değer giriniz: sayı\n"
     ]
    },
    {
     "data": {
      "text/plain": [
       "'sayı'"
      ]
     },
     "execution_count": 3,
     "metadata": {},
     "output_type": "execute_result"
    }
   ],
   "source": [
    "input(\"Değer giriniz:\")"
   ]
  },
  {
   "cell_type": "code",
   "execution_count": 9,
   "id": "4e9a89dc-8aee-4090-9937-f7052ec90e9c",
   "metadata": {},
   "outputs": [
    {
     "name": "stdin",
     "output_type": "stream",
     "text": [
      "Değer giriniz: 1\n"
     ]
    },
    {
     "name": "stdout",
     "output_type": "stream",
     "text": [
      "Kullanıcının değeri: 1\n"
     ]
    }
   ],
   "source": [
    "# Kullanıcının girdiği değeri ekrana gönderme işlemi\n",
    "a = input(\"Değer giriniz:\")\n",
    "print(\"Kullanıcının değeri:\",a)"
   ]
  },
  {
   "cell_type": "markdown",
   "id": "4144658e-e90c-4ef8-9e99-eae9eca5d637",
   "metadata": {},
   "source": [
    "**Inputtan dönen değerler daima STRING olarak gelirler.**"
   ]
  },
  {
   "cell_type": "code",
   "execution_count": 12,
   "id": "f3fd73a7-8e02-4b74-8fb4-d9db08129718",
   "metadata": {},
   "outputs": [
    {
     "name": "stdin",
     "output_type": "stream",
     "text": [
      " 1\n"
     ]
    },
    {
     "name": "stdout",
     "output_type": "stream",
     "text": [
      "<class 'str'>\n"
     ]
    }
   ],
   "source": [
    "a = input()\n",
    "print(type(a))"
   ]
  },
  {
   "cell_type": "code",
   "execution_count": 26,
   "id": "40200723-dc86-419c-89c2-97c170802421",
   "metadata": {},
   "outputs": [
    {
     "name": "stdin",
     "output_type": "stream",
     "text": [
      "Değer: 63\n"
     ]
    },
    {
     "name": "stdout",
     "output_type": "stream",
     "text": [
      "Değerinizin üç katı: 189\n"
     ]
    }
   ],
   "source": [
    "# Inputtaki stringi tam veya ondalıklı sayıya çevirebiliriz.\n",
    "a = int(input(\"Değer:\"))\n",
    "print(\"Değerinizin üç katı:\",3 * a)"
   ]
  },
  {
   "cell_type": "code",
   "execution_count": 30,
   "id": "0b545863-4d83-4acf-9d89-3ba5927af5bf",
   "metadata": {},
   "outputs": [
    {
     "name": "stdin",
     "output_type": "stream",
     "text": [
      "Birinci Sayı: 5\n",
      "İkinci Sayı: 9\n",
      "Üçüncü Sayı: 7\n"
     ]
    },
    {
     "name": "stdout",
     "output_type": "stream",
     "text": [
      "Çarpımları: 315\n"
     ]
    }
   ],
   "source": [
    "# Alt alta Inputlar yazıp işlem yapabiliriz.\n",
    "a = int(input(\"Birinci Sayı:\"))\n",
    "b = int(input(\"İkinci Sayı:\")) # Sayısal işlem için inputları sayıya çevirmek gerekir.\n",
    "c = int(input(\"Üçüncü Sayı:\"))\n",
    "print(\"Çarpımları:\",a*b*c)"
   ]
  },
  {
   "cell_type": "code",
   "execution_count": null,
   "id": "fc30b2b5-a6d4-4c65-9ad7-49e0a4da0a72",
   "metadata": {},
   "outputs": [],
   "source": []
  },
  {
   "cell_type": "code",
   "execution_count": 46,
   "id": "c7ea3d66-1c65-47e4-bce7-66ddfee76290",
   "metadata": {},
   "outputs": [
    {
     "name": "stdin",
     "output_type": "stream",
     "text": [
      "İsminiz: Ömer Seyhan\n",
      "Soyisminiz: Çölyaran\n",
      "Yaşınız: 19\n"
     ]
    },
    {
     "name": "stdout",
     "output_type": "stream",
     "text": [
      "Tam ad: Ömer Seyhan Çölyaran\n",
      "Yaş: 19\n"
     ]
    }
   ],
   "source": [
    "# Üye girişi Örneği:\n",
    "name = input(\"İsminiz:\")\n",
    "surname = input(\"Soyisminiz:\")\n",
    "age = input(\"Yaşınız:\")\n",
    "print(\"Tam ad:\",name + \" \" + surname)\n",
    "print(\"Yaş:\",age)"
   ]
  },
  {
   "cell_type": "code",
   "execution_count": 48,
   "id": "6843fdf8-d5c3-4cf0-81b4-43ac06639602",
   "metadata": {},
   "outputs": [
    {
     "name": "stdin",
     "output_type": "stream",
     "text": [
      "Sayı 1: 2\n",
      "Sayı 2: 6\n",
      "Sayı 3: 8\n"
     ]
    },
    {
     "name": "stdout",
     "output_type": "stream",
     "text": [
      "Bu üç sayının çarpımı 96 çıktı.\n"
     ]
    }
   ],
   "source": [
    "#Format kullanarak da yazabiliriz.\n",
    "\n",
    "a = int(input(\"Sayı 1:\"))\n",
    "b = int(input(\"Sayı 2:\"))\n",
    "c = int(input(\"Sayı 3:\"))\n",
    "\n",
    "print(\"Bu üç sayının çarpımı {} çıktı.\".format(a*b*c))"
   ]
  },
  {
   "cell_type": "code",
   "execution_count": null,
   "id": "1697b6a3-d9a4-43e2-b860-055b34a9435b",
   "metadata": {},
   "outputs": [],
   "source": []
  }
 ],
 "metadata": {
  "kernelspec": {
   "display_name": "Python [conda env:base] *",
   "language": "python",
   "name": "conda-base-py"
  },
  "language_info": {
   "codemirror_mode": {
    "name": "ipython",
    "version": 3
   },
   "file_extension": ".py",
   "mimetype": "text/x-python",
   "name": "python",
   "nbconvert_exporter": "python",
   "pygments_lexer": "ipython3",
   "version": "3.12.7"
  }
 },
 "nbformat": 4,
 "nbformat_minor": 5
}
